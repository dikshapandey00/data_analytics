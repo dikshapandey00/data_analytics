{
  "nbformat": 4,
  "nbformat_minor": 0,
  "metadata": {
    "colab": {
      "provenance": [],
      "include_colab_link": true
    },
    "kernelspec": {
      "name": "python3",
      "display_name": "Python 3"
    },
    "language_info": {
      "name": "python"
    }
  },
  "cells": [
    {
      "cell_type": "markdown",
      "metadata": {
        "id": "view-in-github",
        "colab_type": "text"
      },
      "source": [
        "<a href=\"https://colab.research.google.com/github/dikshapandey00/data_analytics/blob/numpy/numpy.ipynb\" target=\"_parent\"><img src=\"https://colab.research.google.com/assets/colab-badge.svg\" alt=\"Open In Colab\"/></a>"
      ]
    },
    {
      "cell_type": "code",
      "execution_count": null,
      "metadata": {
        "id": "ivRyVMhFIVOO"
      },
      "outputs": [],
      "source": [
        "import numpy as np\n",
        "import random as ran\n",
        "import pandas as pd"
      ]
    },
    {
      "cell_type": "markdown",
      "source": [
        "1. **Create a NumPy array 'arr' of integers from 0 to 5 and print its data type.**\n"
      ],
      "metadata": {
        "id": "3Oq9dSGXhjl0"
      }
    },
    {
      "cell_type": "code",
      "source": [
        "np.array(range(6))"
      ],
      "metadata": {
        "colab": {
          "base_uri": "https://localhost:8080/"
        },
        "id": "i5y11dg9pOh7",
        "outputId": "459eff22-859c-4193-ed45-cab391f64442"
      },
      "execution_count": null,
      "outputs": [
        {
          "output_type": "execute_result",
          "data": {
            "text/plain": [
              "array([0, 1, 2, 3, 4, 5])"
            ]
          },
          "metadata": {},
          "execution_count": 3
        }
      ]
    },
    {
      "cell_type": "markdown",
      "source": [
        "**2. Given a NumPy array 'arr', check if its data type is float64.** <br>\n",
        "**arr = np.array([1.5, 2.6, 3.7])**"
      ],
      "metadata": {
        "id": "2Iu1XDItiOO-"
      }
    },
    {
      "cell_type": "code",
      "source": [
        "arr = np.array([1.5, 2.6, 3.7])\n",
        "if(arr.dtype) == 'float64':\n",
        "  print(arr.dtype, \" True\")\n",
        "else:\n",
        "  print(\"False\")"
      ],
      "metadata": {
        "id": "qv3HdM_5iSUi",
        "colab": {
          "base_uri": "https://localhost:8080/"
        },
        "outputId": "9266da32-832c-45ae-8e68-76d8d653d194"
      },
      "execution_count": null,
      "outputs": [
        {
          "output_type": "stream",
          "name": "stdout",
          "text": [
            "float64  True\n"
          ]
        }
      ]
    },
    {
      "cell_type": "markdown",
      "source": [
        "**3. Create a NumPy array 'arr' with a data type of complex128 containing three complex numbers.**"
      ],
      "metadata": {
        "id": "So6tTRY_i24X"
      }
    },
    {
      "cell_type": "code",
      "source": [
        "a = np.array([1 + 3j, 56 + 7j, 66 + 6j], dtype=complex)\n",
        "print(a)\n",
        "a.dtype"
      ],
      "metadata": {
        "id": "7DjfRxsflvkj",
        "colab": {
          "base_uri": "https://localhost:8080/"
        },
        "outputId": "cc277d90-195f-45f4-e860-98ad2c625dee"
      },
      "execution_count": null,
      "outputs": [
        {
          "output_type": "stream",
          "name": "stdout",
          "text": [
            "[ 1.+3.j 56.+7.j 66.+6.j]\n"
          ]
        },
        {
          "output_type": "execute_result",
          "data": {
            "text/plain": [
              "dtype('complex128')"
            ]
          },
          "metadata": {},
          "execution_count": 14
        }
      ]
    },
    {
      "cell_type": "markdown",
      "source": [
        "**4. Convert an existing NumPy array 'arr' of integers to float32 data type.**\n"
      ],
      "metadata": {
        "id": "EIpz1XIlkBcS"
      }
    },
    {
      "cell_type": "code",
      "source": [
        "arr.astype('float32') #arr was declared in question 2"
      ],
      "metadata": {
        "id": "nfuFh9Wmi4tj",
        "colab": {
          "base_uri": "https://localhost:8080/"
        },
        "outputId": "e63cf8b2-db9d-4f37-c2ee-102fc4197a19"
      },
      "execution_count": null,
      "outputs": [
        {
          "output_type": "execute_result",
          "data": {
            "text/plain": [
              "array([1.5, 2.6, 3.7], dtype=float32)"
            ]
          },
          "metadata": {},
          "execution_count": 16
        }
      ]
    },
    {
      "cell_type": "markdown",
      "source": [
        "**5. Given a NumPy array 'arr' with float64 data type, convert it to float32 to reduce decimal precision.**"
      ],
      "metadata": {
        "id": "rzcx7dn0kcAq"
      }
    },
    {
      "cell_type": "code",
      "source": [
        "arr = np.array([1.699999999999999999999999999, 233.45, 3.7], dtype = 'float64')\n",
        "arr.astype('float32')\n",
        "arr"
      ],
      "metadata": {
        "id": "Sjlw79f8k6xw",
        "colab": {
          "base_uri": "https://localhost:8080/"
        },
        "outputId": "7c239960-b827-4637-e9f0-598ff8722faf"
      },
      "execution_count": null,
      "outputs": [
        {
          "output_type": "execute_result",
          "data": {
            "text/plain": [
              "array([  1.7 , 233.45,   3.7 ])"
            ]
          },
          "metadata": {},
          "execution_count": 20
        }
      ]
    },
    {
      "cell_type": "markdown",
      "source": [
        "**6. Write a function array_attributes that takes a NumPy array as input and returns its shape, size, and data\n",
        "type.**\n"
      ],
      "metadata": {
        "id": "7tfWXybuk8IB"
      }
    },
    {
      "cell_type": "code",
      "source": [
        "def array_attributes(arr):\n",
        "  a = {'shape =' : arr.shape , 'size = ' : arr.size, 'data type = ': arr.dtype}\n",
        "  return a\n",
        "\n",
        "array_attributes(arr)"
      ],
      "metadata": {
        "id": "dv5i73PFlK-A",
        "colab": {
          "base_uri": "https://localhost:8080/"
        },
        "outputId": "38a705ab-51e5-4b21-dd0b-15aef324cde0"
      },
      "execution_count": null,
      "outputs": [
        {
          "output_type": "execute_result",
          "data": {
            "text/plain": [
              "{'shape =': (3,), 'size = ': 3, 'data type = ': dtype('float64')}"
            ]
          },
          "metadata": {},
          "execution_count": 28
        }
      ]
    },
    {
      "cell_type": "markdown",
      "source": [
        "**7. Create a function array_dimension that takes a NumPy array as input and returns its dimensionality.**\n",
        "\n",
        "\n",
        "\n"
      ],
      "metadata": {
        "id": "5Nx2qDcWlLr5"
      }
    },
    {
      "cell_type": "code",
      "source": [
        "def array_dimension(arr):\n",
        "  return arr.ndim\n",
        "array_dimension(arr)"
      ],
      "metadata": {
        "id": "gA8GHLgFlaxH",
        "colab": {
          "base_uri": "https://localhost:8080/"
        },
        "outputId": "2f108839-5861-409d-c4bf-ab105a0c5998"
      },
      "execution_count": null,
      "outputs": [
        {
          "output_type": "execute_result",
          "data": {
            "text/plain": [
              "1"
            ]
          },
          "metadata": {},
          "execution_count": 29
        }
      ]
    },
    {
      "cell_type": "markdown",
      "source": [
        "**8. Design a function item_size_info that takes a NumPy array as input and returns the item size and the total\n",
        "size in bytes.**\n"
      ],
      "metadata": {
        "id": "UD0uVxCdlc92"
      }
    },
    {
      "cell_type": "code",
      "source": [
        "def item_size_info(arr):\n",
        "  return arr.itemsize, arr.nbytes\n",
        "item_size_info(a)"
      ],
      "metadata": {
        "id": "B6dewWlQluUF",
        "colab": {
          "base_uri": "https://localhost:8080/"
        },
        "outputId": "a4a07267-78aa-410d-89b3-6ac15cc65341"
      },
      "execution_count": null,
      "outputs": [
        {
          "output_type": "execute_result",
          "data": {
            "text/plain": [
              "(16, 48)"
            ]
          },
          "metadata": {},
          "execution_count": 30
        }
      ]
    },
    {
      "cell_type": "markdown",
      "source": [
        "**9. Create a function array_strides that takes a NumPy array as input and returns the strides of the array.**\n"
      ],
      "metadata": {
        "id": "YDsIOEhMlfMp"
      }
    },
    {
      "cell_type": "code",
      "source": [
        "def array_strides(arr):\n",
        "  return arr.strides\n",
        "\n",
        "newarray = np.array([[1, 2, 3], [4, 5, 6]])\n",
        "array_strides(newarray)"
      ],
      "metadata": {
        "id": "ZUSHYb-klsBS",
        "colab": {
          "base_uri": "https://localhost:8080/"
        },
        "outputId": "8482b301-f2c4-4e02-f8ad-6784c6167670"
      },
      "execution_count": null,
      "outputs": [
        {
          "output_type": "execute_result",
          "data": {
            "text/plain": [
              "(24, 8)"
            ]
          },
          "metadata": {},
          "execution_count": 33
        }
      ]
    },
    {
      "cell_type": "markdown",
      "source": [
        "**10. Design a function shape_stride_relationship that takes a NumPy array as input and returns the shape\n",
        "and strides of the array.**\n"
      ],
      "metadata": {
        "id": "S7hAuhvll3B5"
      }
    },
    {
      "cell_type": "code",
      "source": [
        "def shape_stride_relationship(arr):\n",
        "  return arr.shape, arr.strides\n",
        "\n",
        "shape_stride_relationship(newarray)"
      ],
      "metadata": {
        "id": "T7Kx10HPl7f-",
        "colab": {
          "base_uri": "https://localhost:8080/"
        },
        "outputId": "751be94d-3ceb-4d78-903b-7ebdc523c3ec"
      },
      "execution_count": null,
      "outputs": [
        {
          "output_type": "execute_result",
          "data": {
            "text/plain": [
              "((2, 3), (24, 8))"
            ]
          },
          "metadata": {},
          "execution_count": 35
        }
      ]
    },
    {
      "cell_type": "markdown",
      "source": [
        "**11. Create a function create_zeros_array that takes an integer n as input and returns a NumPy array of\n",
        "zeros with n elements.**\n"
      ],
      "metadata": {
        "id": "107CqxeNl8PK"
      }
    },
    {
      "cell_type": "code",
      "source": [
        "def create_zeros_array():\n",
        "  n = int(input('n: '))\n",
        "  return np.zeros(n, dtype='int')\n",
        "\n",
        "create_zeros_array()"
      ],
      "metadata": {
        "id": "y1bV3EBsmA8f",
        "colab": {
          "base_uri": "https://localhost:8080/"
        },
        "outputId": "89bde627-e40c-4318-918e-d4750cc5bbc6"
      },
      "execution_count": null,
      "outputs": [
        {
          "name": "stdout",
          "output_type": "stream",
          "text": [
            "n: 5\n"
          ]
        },
        {
          "output_type": "execute_result",
          "data": {
            "text/plain": [
              "array([0, 0, 0, 0, 0])"
            ]
          },
          "metadata": {},
          "execution_count": 42
        }
      ]
    },
    {
      "cell_type": "markdown",
      "source": [
        "**12. Write a function create_ones_matrix that takes integers rows and cols as inputs and generates a 2D <br>\n",
        "NumPy array filled with ones of size rows x cols.**\n"
      ],
      "metadata": {
        "id": "D88PJwA3mBmC"
      }
    },
    {
      "cell_type": "code",
      "source": [
        "def create_ones_matrix():\n",
        "  rows = int(input('rows: '))\n",
        "  cols = int(input('cols: '))\n",
        "  return np.ones((rows, cols))\n",
        "\n",
        "create_ones_matrix()"
      ],
      "metadata": {
        "id": "4-iabSlDmGtO",
        "colab": {
          "base_uri": "https://localhost:8080/"
        },
        "outputId": "8ec68d5b-f476-4742-e9f5-b93ef3308f51"
      },
      "execution_count": null,
      "outputs": [
        {
          "name": "stdout",
          "output_type": "stream",
          "text": [
            "rows: 2\n",
            "cols: 6\n"
          ]
        },
        {
          "output_type": "execute_result",
          "data": {
            "text/plain": [
              "array([[1., 1., 1., 1., 1., 1.],\n",
              "       [1., 1., 1., 1., 1., 1.]])"
            ]
          },
          "metadata": {},
          "execution_count": 43
        }
      ]
    },
    {
      "cell_type": "markdown",
      "source": [
        "**13. Write a function generate_range_array that takes three integers start, stop, and step as arguments and\n",
        "creates a NumPy array with a range starting from start, ending at stop (exclusive), and with the specified\n",
        "step.**\n"
      ],
      "metadata": {
        "id": "1iOUZ3M4mHpl"
      }
    },
    {
      "cell_type": "code",
      "source": [
        "def generate_range_array():\n",
        "  start = int(input('start: '))\n",
        "  stop = int(input('stop: '))\n",
        "  step = int(input('step: '))\n",
        "  return np.arange(start, stop, step)\n",
        "\n",
        "generate_range_array()"
      ],
      "metadata": {
        "id": "Laya7OwPmQji",
        "colab": {
          "base_uri": "https://localhost:8080/"
        },
        "outputId": "77b70e89-b954-442e-b8eb-8f384f019171"
      },
      "execution_count": null,
      "outputs": [
        {
          "name": "stdout",
          "output_type": "stream",
          "text": [
            "start: 1\n",
            "stop: 100\n",
            "step: 5\n"
          ]
        },
        {
          "output_type": "execute_result",
          "data": {
            "text/plain": [
              "array([ 1,  6, 11, 16, 21, 26, 31, 36, 41, 46, 51, 56, 61, 66, 71, 76, 81,\n",
              "       86, 91, 96])"
            ]
          },
          "metadata": {},
          "execution_count": 44
        }
      ]
    },
    {
      "cell_type": "markdown",
      "source": [
        "**14. Design a function generate_linear_space that takes two floats start, stop, and an integer num as\n",
        "arguments and generates a NumPy array with num equally spaced values between start and stop\n",
        "(inclusive).**\n"
      ],
      "metadata": {
        "id": "IDfKAYjXmPka"
      }
    },
    {
      "cell_type": "code",
      "source": [
        "def generate_linear_space():\n",
        "  start = float(input('start: '))\n",
        "  stop = float(input('stop: '))\n",
        "  num = int(input('num: '))\n",
        "  return np.linspace(start, stop, num)\n",
        "\n",
        "generate_linear_space()"
      ],
      "metadata": {
        "id": "rwIxDOG_mNAR",
        "colab": {
          "base_uri": "https://localhost:8080/"
        },
        "outputId": "a5310482-049e-4f12-adf9-36993a7f8cbd"
      },
      "execution_count": null,
      "outputs": [
        {
          "name": "stdout",
          "output_type": "stream",
          "text": [
            "start: 1\n",
            "stop: 100\n",
            "num: 5\n"
          ]
        },
        {
          "output_type": "execute_result",
          "data": {
            "text/plain": [
              "array([  1.  ,  25.75,  50.5 ,  75.25, 100.  ])"
            ]
          },
          "metadata": {},
          "execution_count": 45
        }
      ]
    },
    {
      "cell_type": "markdown",
      "source": [
        "**15. Create a function create_identity_matrix that takes an integer n as input and generates a square\n",
        "identity matrix of size n x n using numpy.eye.**\n"
      ],
      "metadata": {
        "id": "MLVueQfCmNqO"
      }
    },
    {
      "cell_type": "code",
      "source": [
        "def create_identity_matrix():\n",
        "  n = int(input('n: '))\n",
        "  return np.eye(n)\n",
        "\n",
        "create_identity_matrix()"
      ],
      "metadata": {
        "id": "lZI8KSsLmniL",
        "colab": {
          "base_uri": "https://localhost:8080/"
        },
        "outputId": "0df69921-724a-4316-c368-e13f69ef6ee4"
      },
      "execution_count": null,
      "outputs": [
        {
          "name": "stdout",
          "output_type": "stream",
          "text": [
            "n: 5\n"
          ]
        },
        {
          "output_type": "execute_result",
          "data": {
            "text/plain": [
              "array([[1., 0., 0., 0., 0.],\n",
              "       [0., 1., 0., 0., 0.],\n",
              "       [0., 0., 1., 0., 0.],\n",
              "       [0., 0., 0., 1., 0.],\n",
              "       [0., 0., 0., 0., 1.]])"
            ]
          },
          "metadata": {},
          "execution_count": 46
        }
      ]
    },
    {
      "cell_type": "markdown",
      "source": [
        "**16. Write a function that takes a Python list and converts it into a NumPy array.**\n",
        "\n"
      ],
      "metadata": {
        "id": "NvtQR23SmoWq"
      }
    },
    {
      "cell_type": "code",
      "source": [
        "def convertListToArray(list):\n",
        "  return np.array(list)\n",
        "\n",
        "convertListToArray([1, 2, 3])"
      ],
      "metadata": {
        "id": "JeNOKJZgmtoR",
        "colab": {
          "base_uri": "https://localhost:8080/"
        },
        "outputId": "6ab6c0e0-66db-4fd6-c6c5-c48514d88f47"
      },
      "execution_count": null,
      "outputs": [
        {
          "output_type": "execute_result",
          "data": {
            "text/plain": [
              "array([1, 2, 3])"
            ]
          },
          "metadata": {},
          "execution_count": 47
        }
      ]
    },
    {
      "cell_type": "markdown",
      "source": [
        "**17. Create a NumPy array and demonstrate the use of numpy.view to create a new array object with the\n",
        "same data.**\n"
      ],
      "metadata": {
        "id": "osmEyQNim0OR"
      }
    },
    {
      "cell_type": "code",
      "source": [
        "def viewd(arr):\n",
        "  view_arr = arr.view()\n",
        "  return view_arr\n",
        "\n",
        "print(arr)\n",
        "viewd(arr)"
      ],
      "metadata": {
        "id": "8iXpG1Fjm3_v",
        "colab": {
          "base_uri": "https://localhost:8080/"
        },
        "outputId": "7e1dd323-c1ef-4c8a-f051-949b5182fe7d"
      },
      "execution_count": null,
      "outputs": [
        {
          "output_type": "stream",
          "name": "stdout",
          "text": [
            "[  1.7  233.45   3.7 ]\n"
          ]
        },
        {
          "output_type": "execute_result",
          "data": {
            "text/plain": [
              "array([  1.7 , 233.45,   3.7 ])"
            ]
          },
          "metadata": {},
          "execution_count": 50
        }
      ]
    },
    {
      "cell_type": "markdown",
      "source": [
        "**18. Write a function that takes two NumPy arrays and concatenates them along a specified axis.**\n",
        "\n"
      ],
      "metadata": {
        "id": "CC9P_cx4m4pj"
      }
    },
    {
      "cell_type": "code",
      "source": [
        "def concate(arr1, arr2, ax):\n",
        "  return np.concatenate((arr1, arr2), axis=ax)\n",
        "\n",
        "a1 = [[1,2,3],[1,2,3]]\n",
        "a2 = [[4,5,6],[4,5,6]]\n",
        "ax = int(input('axis : 1 or 0'))\n",
        "concate(a1,a2,ax)"
      ],
      "metadata": {
        "id": "6g3KLARnm8Q0",
        "colab": {
          "base_uri": "https://localhost:8080/"
        },
        "outputId": "a722cf88-2443-4b36-fcd1-fb665b3866c7"
      },
      "execution_count": null,
      "outputs": [
        {
          "name": "stdout",
          "output_type": "stream",
          "text": [
            "axis : 1 or 01\n"
          ]
        },
        {
          "output_type": "execute_result",
          "data": {
            "text/plain": [
              "array([[1, 2, 3, 4, 5, 6],\n",
              "       [1, 2, 3, 4, 5, 6]])"
            ]
          },
          "metadata": {},
          "execution_count": 54
        }
      ]
    },
    {
      "cell_type": "markdown",
      "source": [
        "**19.  Create two NumPy arrays with different shapes and concatenate them horizontally using `numpy.\n",
        " concatenate`**\n"
      ],
      "metadata": {
        "id": "2pTQXSQYm89N"
      }
    },
    {
      "cell_type": "code",
      "source": [
        "def concatenate(arr1, arr2):\n",
        "  return np.concatenate((arr1, arr2), axis=1)\n",
        "\n",
        "arr1 = np.array([[1, 2], [3, 4]])\n",
        "arr2 = np.array([[5, 6], [7, 8]])\n",
        "\n",
        "concatenate(arr1, arr2)"
      ],
      "metadata": {
        "id": "ivGyXmULn0YM",
        "colab": {
          "base_uri": "https://localhost:8080/"
        },
        "outputId": "27e8b240-3817-4b35-847a-839cf7b9cfd7"
      },
      "execution_count": null,
      "outputs": [
        {
          "output_type": "execute_result",
          "data": {
            "text/plain": [
              "array([[1, 2, 5, 6],\n",
              "       [3, 4, 7, 8]])"
            ]
          },
          "metadata": {},
          "execution_count": 55
        }
      ]
    },
    {
      "cell_type": "markdown",
      "source": [
        "**20. Write a function that vertically stacks multiple NumPy arrays given as a list.**"
      ],
      "metadata": {
        "id": "9L6rAsxhn1WP"
      }
    },
    {
      "cell_type": "code",
      "source": [
        "def vertical_stack(arr):\n",
        "  return np.vstack(arr)\n",
        "\n",
        "arr = [np.array([[1, 2], [3, 4]]), np.array([[5, 6], [7, 8]])]\n",
        "vertical_stack(arr)"
      ],
      "metadata": {
        "id": "-jgNLHPNn8a1",
        "colab": {
          "base_uri": "https://localhost:8080/"
        },
        "outputId": "0f63de9b-aaa4-4a3a-b57b-67143cd47a54"
      },
      "execution_count": null,
      "outputs": [
        {
          "output_type": "execute_result",
          "data": {
            "text/plain": [
              "array([[1, 2],\n",
              "       [3, 4],\n",
              "       [5, 6],\n",
              "       [7, 8]])"
            ]
          },
          "metadata": {},
          "execution_count": 56
        }
      ]
    },
    {
      "cell_type": "markdown",
      "source": [
        "**21. Write a Python function using NumPy to create an array of integers within a specified range (inclusive)\n",
        "with a given step size**"
      ],
      "metadata": {
        "id": "YEgb4y9joPQF"
      }
    },
    {
      "cell_type": "code",
      "source": [
        "def create_array(start, stop, step):\n",
        "  return np.arange(start, stop + step, step)\n",
        "\n",
        "start = int(input(\"Start: \"))\n",
        "stop = int(input(\"Stop: \"))\n",
        "step = int(input(\"Step: \"))\n",
        "create_array(start, stop, step)"
      ],
      "metadata": {
        "id": "3iGurOQqoUi3",
        "colab": {
          "base_uri": "https://localhost:8080/"
        },
        "outputId": "0d987dae-5a88-41fd-9aa4-c222cf38c3fc"
      },
      "execution_count": null,
      "outputs": [
        {
          "name": "stdout",
          "output_type": "stream",
          "text": [
            "Start: 0\n",
            "Stop: 10\n",
            "Step: 2\n"
          ]
        },
        {
          "output_type": "execute_result",
          "data": {
            "text/plain": [
              "array([ 0,  2,  4,  6,  8, 10])"
            ]
          },
          "metadata": {},
          "execution_count": 60
        }
      ]
    },
    {
      "cell_type": "markdown",
      "source": [
        "**22. Write a Python function using NumPy to generate an array of 10 equally spaced values between 0 and 1\n",
        "(inclusive).**"
      ],
      "metadata": {
        "id": "yLYtSQfZoV3A"
      }
    },
    {
      "cell_type": "code",
      "source": [
        "def eq(start, stop):\n",
        "  return np.linspace(start, stop, 10)\n",
        "\n",
        "eq(0,1)"
      ],
      "metadata": {
        "id": "yO__XVCtoaHK",
        "colab": {
          "base_uri": "https://localhost:8080/"
        },
        "outputId": "7045268c-2cc3-47ca-f6a1-702ea3e3c657"
      },
      "execution_count": null,
      "outputs": [
        {
          "output_type": "execute_result",
          "data": {
            "text/plain": [
              "array([0.        , 0.11111111, 0.22222222, 0.33333333, 0.44444444,\n",
              "       0.55555556, 0.66666667, 0.77777778, 0.88888889, 1.        ])"
            ]
          },
          "metadata": {},
          "execution_count": 61
        }
      ]
    },
    {
      "cell_type": "markdown",
      "source": [
        "**23. Write a Python function using NumPy to create an array of 5 logarithmically spaced values between 1 and\n",
        "1000 (inclusive).**"
      ],
      "metadata": {
        "id": "v5FHP_XpobXV"
      }
    },
    {
      "cell_type": "code",
      "source": [
        "def logsp(start, stop):\n",
        "  return np.logspace(np.log10(start), np.log10(stop), 5)\n",
        "\n",
        "logsp(1,1000)"
      ],
      "metadata": {
        "id": "XuRrIu_uoj1S",
        "colab": {
          "base_uri": "https://localhost:8080/"
        },
        "outputId": "4b3a6fc9-2e41-45b8-f9e5-4a9d89cdb6a0"
      },
      "execution_count": null,
      "outputs": [
        {
          "output_type": "execute_result",
          "data": {
            "text/plain": [
              "array([   1.        ,    5.62341325,   31.6227766 ,  177.827941  ,\n",
              "       1000.        ])"
            ]
          },
          "metadata": {},
          "execution_count": 63
        }
      ]
    },
    {
      "cell_type": "markdown",
      "source": [
        "**24. Create a Pandas DataFrame using a NumPy array that contains 5 rows and 3 columns, where the values\n",
        "are random integers between 1 and 100.**"
      ],
      "metadata": {
        "id": "wQtgwq90oksN"
      }
    },
    {
      "cell_type": "code",
      "source": [
        "import pandas as pd\n",
        "df = pd.DataFrame(np.random.randint(1, 100, size=(5, 3)))\n",
        "df"
      ],
      "metadata": {
        "id": "43Nf42W7ooqP",
        "colab": {
          "base_uri": "https://localhost:8080/",
          "height": 206
        },
        "outputId": "28e7cea6-a506-4f07-a91c-2dbbb6890edb"
      },
      "execution_count": null,
      "outputs": [
        {
          "output_type": "execute_result",
          "data": {
            "text/plain": [
              "    0   1   2\n",
              "0  61  69   5\n",
              "1  52  49  96\n",
              "2  76  62  49\n",
              "3  88  49   1\n",
              "4  15  57  40"
            ],
            "text/html": [
              "\n",
              "  <div id=\"df-13323878-d29c-4e51-a015-9756e3463398\" class=\"colab-df-container\">\n",
              "    <div>\n",
              "<style scoped>\n",
              "    .dataframe tbody tr th:only-of-type {\n",
              "        vertical-align: middle;\n",
              "    }\n",
              "\n",
              "    .dataframe tbody tr th {\n",
              "        vertical-align: top;\n",
              "    }\n",
              "\n",
              "    .dataframe thead th {\n",
              "        text-align: right;\n",
              "    }\n",
              "</style>\n",
              "<table border=\"1\" class=\"dataframe\">\n",
              "  <thead>\n",
              "    <tr style=\"text-align: right;\">\n",
              "      <th></th>\n",
              "      <th>0</th>\n",
              "      <th>1</th>\n",
              "      <th>2</th>\n",
              "    </tr>\n",
              "  </thead>\n",
              "  <tbody>\n",
              "    <tr>\n",
              "      <th>0</th>\n",
              "      <td>61</td>\n",
              "      <td>69</td>\n",
              "      <td>5</td>\n",
              "    </tr>\n",
              "    <tr>\n",
              "      <th>1</th>\n",
              "      <td>52</td>\n",
              "      <td>49</td>\n",
              "      <td>96</td>\n",
              "    </tr>\n",
              "    <tr>\n",
              "      <th>2</th>\n",
              "      <td>76</td>\n",
              "      <td>62</td>\n",
              "      <td>49</td>\n",
              "    </tr>\n",
              "    <tr>\n",
              "      <th>3</th>\n",
              "      <td>88</td>\n",
              "      <td>49</td>\n",
              "      <td>1</td>\n",
              "    </tr>\n",
              "    <tr>\n",
              "      <th>4</th>\n",
              "      <td>15</td>\n",
              "      <td>57</td>\n",
              "      <td>40</td>\n",
              "    </tr>\n",
              "  </tbody>\n",
              "</table>\n",
              "</div>\n",
              "    <div class=\"colab-df-buttons\">\n",
              "\n",
              "  <div class=\"colab-df-container\">\n",
              "    <button class=\"colab-df-convert\" onclick=\"convertToInteractive('df-13323878-d29c-4e51-a015-9756e3463398')\"\n",
              "            title=\"Convert this dataframe to an interactive table.\"\n",
              "            style=\"display:none;\">\n",
              "\n",
              "  <svg xmlns=\"http://www.w3.org/2000/svg\" height=\"24px\" viewBox=\"0 -960 960 960\">\n",
              "    <path d=\"M120-120v-720h720v720H120Zm60-500h600v-160H180v160Zm220 220h160v-160H400v160Zm0 220h160v-160H400v160ZM180-400h160v-160H180v160Zm440 0h160v-160H620v160ZM180-180h160v-160H180v160Zm440 0h160v-160H620v160Z\"/>\n",
              "  </svg>\n",
              "    </button>\n",
              "\n",
              "  <style>\n",
              "    .colab-df-container {\n",
              "      display:flex;\n",
              "      gap: 12px;\n",
              "    }\n",
              "\n",
              "    .colab-df-convert {\n",
              "      background-color: #E8F0FE;\n",
              "      border: none;\n",
              "      border-radius: 50%;\n",
              "      cursor: pointer;\n",
              "      display: none;\n",
              "      fill: #1967D2;\n",
              "      height: 32px;\n",
              "      padding: 0 0 0 0;\n",
              "      width: 32px;\n",
              "    }\n",
              "\n",
              "    .colab-df-convert:hover {\n",
              "      background-color: #E2EBFA;\n",
              "      box-shadow: 0px 1px 2px rgba(60, 64, 67, 0.3), 0px 1px 3px 1px rgba(60, 64, 67, 0.15);\n",
              "      fill: #174EA6;\n",
              "    }\n",
              "\n",
              "    .colab-df-buttons div {\n",
              "      margin-bottom: 4px;\n",
              "    }\n",
              "\n",
              "    [theme=dark] .colab-df-convert {\n",
              "      background-color: #3B4455;\n",
              "      fill: #D2E3FC;\n",
              "    }\n",
              "\n",
              "    [theme=dark] .colab-df-convert:hover {\n",
              "      background-color: #434B5C;\n",
              "      box-shadow: 0px 1px 3px 1px rgba(0, 0, 0, 0.15);\n",
              "      filter: drop-shadow(0px 1px 2px rgba(0, 0, 0, 0.3));\n",
              "      fill: #FFFFFF;\n",
              "    }\n",
              "  </style>\n",
              "\n",
              "    <script>\n",
              "      const buttonEl =\n",
              "        document.querySelector('#df-13323878-d29c-4e51-a015-9756e3463398 button.colab-df-convert');\n",
              "      buttonEl.style.display =\n",
              "        google.colab.kernel.accessAllowed ? 'block' : 'none';\n",
              "\n",
              "      async function convertToInteractive(key) {\n",
              "        const element = document.querySelector('#df-13323878-d29c-4e51-a015-9756e3463398');\n",
              "        const dataTable =\n",
              "          await google.colab.kernel.invokeFunction('convertToInteractive',\n",
              "                                                    [key], {});\n",
              "        if (!dataTable) return;\n",
              "\n",
              "        const docLinkHtml = 'Like what you see? Visit the ' +\n",
              "          '<a target=\"_blank\" href=https://colab.research.google.com/notebooks/data_table.ipynb>data table notebook</a>'\n",
              "          + ' to learn more about interactive tables.';\n",
              "        element.innerHTML = '';\n",
              "        dataTable['output_type'] = 'display_data';\n",
              "        await google.colab.output.renderOutput(dataTable, element);\n",
              "        const docLink = document.createElement('div');\n",
              "        docLink.innerHTML = docLinkHtml;\n",
              "        element.appendChild(docLink);\n",
              "      }\n",
              "    </script>\n",
              "  </div>\n",
              "\n",
              "\n",
              "<div id=\"df-6f56abe0-1673-42ff-8e0e-7617c4af7917\">\n",
              "  <button class=\"colab-df-quickchart\" onclick=\"quickchart('df-6f56abe0-1673-42ff-8e0e-7617c4af7917')\"\n",
              "            title=\"Suggest charts\"\n",
              "            style=\"display:none;\">\n",
              "\n",
              "<svg xmlns=\"http://www.w3.org/2000/svg\" height=\"24px\"viewBox=\"0 0 24 24\"\n",
              "     width=\"24px\">\n",
              "    <g>\n",
              "        <path d=\"M19 3H5c-1.1 0-2 .9-2 2v14c0 1.1.9 2 2 2h14c1.1 0 2-.9 2-2V5c0-1.1-.9-2-2-2zM9 17H7v-7h2v7zm4 0h-2V7h2v10zm4 0h-2v-4h2v4z\"/>\n",
              "    </g>\n",
              "</svg>\n",
              "  </button>\n",
              "\n",
              "<style>\n",
              "  .colab-df-quickchart {\n",
              "      --bg-color: #E8F0FE;\n",
              "      --fill-color: #1967D2;\n",
              "      --hover-bg-color: #E2EBFA;\n",
              "      --hover-fill-color: #174EA6;\n",
              "      --disabled-fill-color: #AAA;\n",
              "      --disabled-bg-color: #DDD;\n",
              "  }\n",
              "\n",
              "  [theme=dark] .colab-df-quickchart {\n",
              "      --bg-color: #3B4455;\n",
              "      --fill-color: #D2E3FC;\n",
              "      --hover-bg-color: #434B5C;\n",
              "      --hover-fill-color: #FFFFFF;\n",
              "      --disabled-bg-color: #3B4455;\n",
              "      --disabled-fill-color: #666;\n",
              "  }\n",
              "\n",
              "  .colab-df-quickchart {\n",
              "    background-color: var(--bg-color);\n",
              "    border: none;\n",
              "    border-radius: 50%;\n",
              "    cursor: pointer;\n",
              "    display: none;\n",
              "    fill: var(--fill-color);\n",
              "    height: 32px;\n",
              "    padding: 0;\n",
              "    width: 32px;\n",
              "  }\n",
              "\n",
              "  .colab-df-quickchart:hover {\n",
              "    background-color: var(--hover-bg-color);\n",
              "    box-shadow: 0 1px 2px rgba(60, 64, 67, 0.3), 0 1px 3px 1px rgba(60, 64, 67, 0.15);\n",
              "    fill: var(--button-hover-fill-color);\n",
              "  }\n",
              "\n",
              "  .colab-df-quickchart-complete:disabled,\n",
              "  .colab-df-quickchart-complete:disabled:hover {\n",
              "    background-color: var(--disabled-bg-color);\n",
              "    fill: var(--disabled-fill-color);\n",
              "    box-shadow: none;\n",
              "  }\n",
              "\n",
              "  .colab-df-spinner {\n",
              "    border: 2px solid var(--fill-color);\n",
              "    border-color: transparent;\n",
              "    border-bottom-color: var(--fill-color);\n",
              "    animation:\n",
              "      spin 1s steps(1) infinite;\n",
              "  }\n",
              "\n",
              "  @keyframes spin {\n",
              "    0% {\n",
              "      border-color: transparent;\n",
              "      border-bottom-color: var(--fill-color);\n",
              "      border-left-color: var(--fill-color);\n",
              "    }\n",
              "    20% {\n",
              "      border-color: transparent;\n",
              "      border-left-color: var(--fill-color);\n",
              "      border-top-color: var(--fill-color);\n",
              "    }\n",
              "    30% {\n",
              "      border-color: transparent;\n",
              "      border-left-color: var(--fill-color);\n",
              "      border-top-color: var(--fill-color);\n",
              "      border-right-color: var(--fill-color);\n",
              "    }\n",
              "    40% {\n",
              "      border-color: transparent;\n",
              "      border-right-color: var(--fill-color);\n",
              "      border-top-color: var(--fill-color);\n",
              "    }\n",
              "    60% {\n",
              "      border-color: transparent;\n",
              "      border-right-color: var(--fill-color);\n",
              "    }\n",
              "    80% {\n",
              "      border-color: transparent;\n",
              "      border-right-color: var(--fill-color);\n",
              "      border-bottom-color: var(--fill-color);\n",
              "    }\n",
              "    90% {\n",
              "      border-color: transparent;\n",
              "      border-bottom-color: var(--fill-color);\n",
              "    }\n",
              "  }\n",
              "</style>\n",
              "\n",
              "  <script>\n",
              "    async function quickchart(key) {\n",
              "      const quickchartButtonEl =\n",
              "        document.querySelector('#' + key + ' button');\n",
              "      quickchartButtonEl.disabled = true;  // To prevent multiple clicks.\n",
              "      quickchartButtonEl.classList.add('colab-df-spinner');\n",
              "      try {\n",
              "        const charts = await google.colab.kernel.invokeFunction(\n",
              "            'suggestCharts', [key], {});\n",
              "      } catch (error) {\n",
              "        console.error('Error during call to suggestCharts:', error);\n",
              "      }\n",
              "      quickchartButtonEl.classList.remove('colab-df-spinner');\n",
              "      quickchartButtonEl.classList.add('colab-df-quickchart-complete');\n",
              "    }\n",
              "    (() => {\n",
              "      let quickchartButtonEl =\n",
              "        document.querySelector('#df-6f56abe0-1673-42ff-8e0e-7617c4af7917 button');\n",
              "      quickchartButtonEl.style.display =\n",
              "        google.colab.kernel.accessAllowed ? 'block' : 'none';\n",
              "    })();\n",
              "  </script>\n",
              "</div>\n",
              "\n",
              "  <div id=\"id_2d519de1-b66d-4a10-8f69-9554f07882bb\">\n",
              "    <style>\n",
              "      .colab-df-generate {\n",
              "        background-color: #E8F0FE;\n",
              "        border: none;\n",
              "        border-radius: 50%;\n",
              "        cursor: pointer;\n",
              "        display: none;\n",
              "        fill: #1967D2;\n",
              "        height: 32px;\n",
              "        padding: 0 0 0 0;\n",
              "        width: 32px;\n",
              "      }\n",
              "\n",
              "      .colab-df-generate:hover {\n",
              "        background-color: #E2EBFA;\n",
              "        box-shadow: 0px 1px 2px rgba(60, 64, 67, 0.3), 0px 1px 3px 1px rgba(60, 64, 67, 0.15);\n",
              "        fill: #174EA6;\n",
              "      }\n",
              "\n",
              "      [theme=dark] .colab-df-generate {\n",
              "        background-color: #3B4455;\n",
              "        fill: #D2E3FC;\n",
              "      }\n",
              "\n",
              "      [theme=dark] .colab-df-generate:hover {\n",
              "        background-color: #434B5C;\n",
              "        box-shadow: 0px 1px 3px 1px rgba(0, 0, 0, 0.15);\n",
              "        filter: drop-shadow(0px 1px 2px rgba(0, 0, 0, 0.3));\n",
              "        fill: #FFFFFF;\n",
              "      }\n",
              "    </style>\n",
              "    <button class=\"colab-df-generate\" onclick=\"generateWithVariable('df')\"\n",
              "            title=\"Generate code using this dataframe.\"\n",
              "            style=\"display:none;\">\n",
              "\n",
              "  <svg xmlns=\"http://www.w3.org/2000/svg\" height=\"24px\"viewBox=\"0 0 24 24\"\n",
              "       width=\"24px\">\n",
              "    <path d=\"M7,19H8.4L18.45,9,17,7.55,7,17.6ZM5,21V16.75L18.45,3.32a2,2,0,0,1,2.83,0l1.4,1.43a1.91,1.91,0,0,1,.58,1.4,1.91,1.91,0,0,1-.58,1.4L9.25,21ZM18.45,9,17,7.55Zm-12,3A5.31,5.31,0,0,0,4.9,8.1,5.31,5.31,0,0,0,1,6.5,5.31,5.31,0,0,0,4.9,4.9,5.31,5.31,0,0,0,6.5,1,5.31,5.31,0,0,0,8.1,4.9,5.31,5.31,0,0,0,12,6.5,5.46,5.46,0,0,0,6.5,12Z\"/>\n",
              "  </svg>\n",
              "    </button>\n",
              "    <script>\n",
              "      (() => {\n",
              "      const buttonEl =\n",
              "        document.querySelector('#id_2d519de1-b66d-4a10-8f69-9554f07882bb button.colab-df-generate');\n",
              "      buttonEl.style.display =\n",
              "        google.colab.kernel.accessAllowed ? 'block' : 'none';\n",
              "\n",
              "      buttonEl.onclick = () => {\n",
              "        google.colab.notebook.generateWithVariable('df');\n",
              "      }\n",
              "      })();\n",
              "    </script>\n",
              "  </div>\n",
              "\n",
              "    </div>\n",
              "  </div>\n"
            ],
            "application/vnd.google.colaboratory.intrinsic+json": {
              "type": "dataframe",
              "variable_name": "df",
              "summary": "{\n  \"name\": \"df\",\n  \"rows\": 5,\n  \"fields\": [\n    {\n      \"column\": 0,\n      \"properties\": {\n        \"dtype\": \"number\",\n        \"std\": 27,\n        \"min\": 15,\n        \"max\": 88,\n        \"num_unique_values\": 5,\n        \"samples\": [\n          52,\n          15,\n          76\n        ],\n        \"semantic_type\": \"\",\n        \"description\": \"\"\n      }\n    },\n    {\n      \"column\": 1,\n      \"properties\": {\n        \"dtype\": \"number\",\n        \"std\": 8,\n        \"min\": 49,\n        \"max\": 69,\n        \"num_unique_values\": 4,\n        \"samples\": [\n          49,\n          57,\n          69\n        ],\n        \"semantic_type\": \"\",\n        \"description\": \"\"\n      }\n    },\n    {\n      \"column\": 2,\n      \"properties\": {\n        \"dtype\": \"number\",\n        \"std\": 38,\n        \"min\": 1,\n        \"max\": 96,\n        \"num_unique_values\": 5,\n        \"samples\": [\n          96,\n          40,\n          49\n        ],\n        \"semantic_type\": \"\",\n        \"description\": \"\"\n      }\n    }\n  ]\n}"
            }
          },
          "metadata": {},
          "execution_count": 66
        }
      ]
    },
    {
      "cell_type": "markdown",
      "source": [
        "**25. Write a function that takes a Pandas DataFrame and replaces all negative values in a specific column\n",
        "with zeros. Use NumPy operations within the Pandas DataFrame.**"
      ],
      "metadata": {
        "id": "VBl2dwCQopRY"
      }
    },
    {
      "cell_type": "code",
      "source": [
        "def replace_negative(df, col):\n",
        "  df[col] = np.where(df[col] < 0, 0, df[col])\n",
        "  return df\n",
        "\n",
        "df = pd.DataFrame(np.random.randint(-100, 100, size=(5, 3)))\n",
        "print(df)\n",
        "replace_negative(df, 0)\n",
        "print(\"after function df: \\n\" ,df)"
      ],
      "metadata": {
        "id": "EcdKRTflotcd",
        "colab": {
          "base_uri": "https://localhost:8080/"
        },
        "outputId": "5fb453c7-6a6e-4831-c444-d3f33f13d9df"
      },
      "execution_count": null,
      "outputs": [
        {
          "output_type": "stream",
          "name": "stdout",
          "text": [
            "    0   1   2\n",
            "0 -28  59   9\n",
            "1  -8   8 -18\n",
            "2  46 -26 -74\n",
            "3  97 -69  13\n",
            "4  36  64  72\n",
            "after function df: \n",
            "     0   1   2\n",
            "0   0  59   9\n",
            "1   0   8 -18\n",
            "2  46 -26 -74\n",
            "3  97 -69  13\n",
            "4  36  64  72\n"
          ]
        }
      ]
    },
    {
      "cell_type": "markdown",
      "source": [
        "**26. Access the 3rd element from the given NumPy array.** <br>\n",
        " *arr = np.array([10, 20, 30, 40, 50])*"
      ],
      "metadata": {
        "id": "AsktGwNZ6uo9"
      }
    },
    {
      "cell_type": "code",
      "source": [
        "arr = np.array([10, 20, 30, 40, 50])\n",
        "arr[2]"
      ],
      "metadata": {
        "id": "LL4Wi-vp54Wo",
        "colab": {
          "base_uri": "https://localhost:8080/"
        },
        "outputId": "5d4510fc-0fe3-41f2-abfe-6e0b185d8802"
      },
      "execution_count": null,
      "outputs": [
        {
          "output_type": "execute_result",
          "data": {
            "text/plain": [
              "30"
            ]
          },
          "metadata": {},
          "execution_count": 77
        }
      ]
    },
    {
      "cell_type": "markdown",
      "source": [
        "**27. Retrieve the element at index (1, 2) from the 2D NumPy array.**<br>\n",
        "*arr_2d = np.array([[1, 2, 3],<br>\n",
        " [4, 5, 6],<br>\n",
        " [7, 8, 9]])*"
      ],
      "metadata": {
        "id": "hRLwG1J47BDC"
      }
    },
    {
      "cell_type": "code",
      "source": [
        "arr_2d = np.array([[1, 2, 3],\n",
        "[4, 5, 6],\n",
        "[7, 8, 9]])\n",
        "arr_2d[1,2]"
      ],
      "metadata": {
        "id": "qZNscp4G7Ogr",
        "colab": {
          "base_uri": "https://localhost:8080/"
        },
        "outputId": "a9dd4740-9a3e-44c0-9e8d-33c7910b0fae"
      },
      "execution_count": null,
      "outputs": [
        {
          "output_type": "execute_result",
          "data": {
            "text/plain": [
              "6"
            ]
          },
          "metadata": {},
          "execution_count": 78
        }
      ]
    },
    {
      "cell_type": "markdown",
      "source": [
        " **28. Using boolean indexing, extract elements greater than 5 from the given NumPy array.** <br>\n",
        " *arr = np.array([3, 8, 2, 10, 5, 7])*"
      ],
      "metadata": {
        "id": "S9uifJKS7PSi"
      }
    },
    {
      "cell_type": "code",
      "source": [
        "arr = np.array([3,8,2,10,5,7])\n",
        "print(arr[arr > 5])"
      ],
      "metadata": {
        "id": "qqqxgPIO7V90",
        "colab": {
          "base_uri": "https://localhost:8080/"
        },
        "outputId": "d574255b-13e3-4062-dae8-30bf44afd572"
      },
      "execution_count": null,
      "outputs": [
        {
          "output_type": "stream",
          "name": "stdout",
          "text": [
            "[ 8 10  7]\n"
          ]
        }
      ]
    },
    {
      "cell_type": "markdown",
      "source": [
        " **29. Perform basic slicing to extract elements from index 2 to 5 (inclusive) from the given NumPy array.**\n",
        "* arr = np.array([1, 2, 3, 4, 5, 6, 7, 8, 9])*"
      ],
      "metadata": {
        "id": "kUlR41pw7Wqk"
      }
    },
    {
      "cell_type": "code",
      "source": [
        "arr = np.array([1,2,3,4,5,6,7,8,9])\n",
        "print(arr[2:6])"
      ],
      "metadata": {
        "id": "74puiUTN7bzB",
        "colab": {
          "base_uri": "https://localhost:8080/"
        },
        "outputId": "0ee8753a-1836-4927-eced-c865e02d877e"
      },
      "execution_count": null,
      "outputs": [
        {
          "output_type": "stream",
          "name": "stdout",
          "text": [
            "[3 4 5 6]\n"
          ]
        }
      ]
    },
    {
      "cell_type": "markdown",
      "source": [
        "**30. Slice the 2D NumPy array to extract the sub-array `[[2, 3], [5, 6]]` from the given array.** <br>\n",
        " *arr_2d = np.array([[1, 2, 3],\n",
        " [4, 5, 6],\n",
        " [7, 8, 9]])*"
      ],
      "metadata": {
        "id": "af0Sw37C7cc2"
      }
    },
    {
      "cell_type": "code",
      "source": [
        "arr_2d = np.array([[1, 2, 3],[4, 5, 6],[7, 8, 9]])\n",
        "arr_2d[0:2, 1:3]"
      ],
      "metadata": {
        "id": "hstW5EiZ7j28",
        "colab": {
          "base_uri": "https://localhost:8080/"
        },
        "outputId": "ad199587-39c5-4b80-9eea-7e51ce817b00"
      },
      "execution_count": null,
      "outputs": [
        {
          "output_type": "execute_result",
          "data": {
            "text/plain": [
              "array([[2, 3],\n",
              "       [5, 6]])"
            ]
          },
          "metadata": {},
          "execution_count": 82
        }
      ]
    },
    {
      "cell_type": "markdown",
      "source": [
        "**31.Write a NumPy function to extract elements in specific order from a given 2D array based on indices\n",
        "provided in another array.**"
      ],
      "metadata": {
        "id": "iB6PpsCi7keG"
      }
    },
    {
      "cell_type": "code",
      "source": [
        "def extract_elements(arr, indices):\n",
        "  return arr[indices]\n",
        "\n",
        "arr = np.array([[1, 2, 3], [4, 5, 6], [7, 8, 9]])\n",
        "indices = np.array([0, 2])\n",
        "extract_elements(arr, indices)"
      ],
      "metadata": {
        "id": "LR7tRfrP7o0V",
        "colab": {
          "base_uri": "https://localhost:8080/"
        },
        "outputId": "96f355e4-f53b-4ac4-c39f-b95f8427618b"
      },
      "execution_count": null,
      "outputs": [
        {
          "output_type": "execute_result",
          "data": {
            "text/plain": [
              "array([[1, 2, 3],\n",
              "       [7, 8, 9]])"
            ]
          },
          "metadata": {},
          "execution_count": 84
        }
      ]
    },
    {
      "cell_type": "markdown",
      "source": [
        "**32. Create a NumPy function that filters elements greater than a threshold from a given 1D array using\n",
        "boolean indexing.**"
      ],
      "metadata": {
        "id": "FnK7-E9b7pfq"
      }
    },
    {
      "cell_type": "code",
      "source": [
        "def thresh(arr):\n",
        "  return arr[arr > 5]\n",
        "\n",
        "arr_1d = np.array([1,3,5,6,8,9])\n",
        "thresh(arr_1d)"
      ],
      "metadata": {
        "id": "dqQBLCqj7tkP",
        "colab": {
          "base_uri": "https://localhost:8080/"
        },
        "outputId": "e9909e72-ccb4-4acf-f02a-33d572d322cd"
      },
      "execution_count": null,
      "outputs": [
        {
          "output_type": "execute_result",
          "data": {
            "text/plain": [
              "array([6, 8, 9])"
            ]
          },
          "metadata": {},
          "execution_count": 90
        }
      ]
    },
    {
      "cell_type": "markdown",
      "source": [
        "**33. Develop a NumPy function that extracts specific elements from a 3D array using indices provided in three\n",
        "separate arrays for each dimension.**"
      ],
      "metadata": {
        "id": "dzzMM1e57uLx"
      }
    },
    {
      "cell_type": "code",
      "source": [
        "def extract_3d(arr, indices1, indices2, indices3):\n",
        "  return arr[indices1, indices2, indices3]\n",
        "\n",
        "arr_3d = np.array([[[1,2,3], [4,5,6], [7,8,9]], [[10,11,12], [13,14,15], [16,17,18]]])\n",
        "indices1 = [0,1]\n",
        "indices2 = [0,2]\n",
        "indices3 = [0,1]\n",
        "\n",
        "extract_3d(arr_3d, indices1, indices2, indices3)\n",
        "#arr_3d.ndim"
      ],
      "metadata": {
        "id": "bvJKd1st7xnM",
        "colab": {
          "base_uri": "https://localhost:8080/"
        },
        "outputId": "c1fa3a01-55d4-4b38-ac41-cfc6596259e3"
      },
      "execution_count": null,
      "outputs": [
        {
          "output_type": "execute_result",
          "data": {
            "text/plain": [
              "array([ 1, 17])"
            ]
          },
          "metadata": {},
          "execution_count": 100
        }
      ]
    },
    {
      "cell_type": "markdown",
      "source": [
        "**34. Write a NumPy function that returns elements from an array where both two conditions are satisfied\n",
        "using boolean indexing.**"
      ],
      "metadata": {
        "id": "fO8_FXRZ7yOg"
      }
    },
    {
      "cell_type": "code",
      "source": [
        "def con(arr):\n",
        "  return arr[(arr >5) & (arr < 10)]\n",
        "\n",
        "ar = np.array([1,3,5,6,8,9,15,45,12])\n",
        "con(ar)"
      ],
      "metadata": {
        "id": "raPIGftr72cI",
        "colab": {
          "base_uri": "https://localhost:8080/"
        },
        "outputId": "80adb52e-b314-4684-d679-214af0c0142c"
      },
      "execution_count": null,
      "outputs": [
        {
          "output_type": "execute_result",
          "data": {
            "text/plain": [
              "array([6, 8, 9])"
            ]
          },
          "metadata": {},
          "execution_count": 103
        }
      ]
    },
    {
      "cell_type": "markdown",
      "source": [
        "**35. Create a NumPy function that extracts elements from a 2D array using row and column indices provided\n",
        "in separate arrays.**"
      ],
      "metadata": {
        "id": "WEapYvSP73Bs"
      }
    },
    {
      "cell_type": "code",
      "source": [
        "def extract2(arr, indices1, indices2):\n",
        "  return arr[indices1, indices2]\n",
        "\n",
        "arr = np.array([[1,2,3],[4,5,6],[7,8,9]])\n",
        "\n",
        "indices1 = [0]\n",
        "indices2 = [2]\n",
        "\n",
        "extract2(arr, indices1, indices2)"
      ],
      "metadata": {
        "id": "zPbTe8sz76gg",
        "colab": {
          "base_uri": "https://localhost:8080/"
        },
        "outputId": "389f718c-ddbe-45f0-ebb4-bcebd85492b9"
      },
      "execution_count": null,
      "outputs": [
        {
          "output_type": "execute_result",
          "data": {
            "text/plain": [
              "array([3])"
            ]
          },
          "metadata": {},
          "execution_count": 4
        }
      ]
    },
    {
      "cell_type": "markdown",
      "source": [
        "**36.  Given an array arr of shape (3, 3), add a scalar value of 5 to each element using NumPy broadcasting.**"
      ],
      "metadata": {
        "id": "LSNJo1_c8Blm"
      }
    },
    {
      "cell_type": "code",
      "source": [
        "arr = np.ones((3,3))\n",
        "arr + 5"
      ],
      "metadata": {
        "id": "_NiujFXk8H3f",
        "colab": {
          "base_uri": "https://localhost:8080/"
        },
        "outputId": "9a0225cc-9eca-4f71-fa23-8030e395a7fd"
      },
      "execution_count": null,
      "outputs": [
        {
          "output_type": "execute_result",
          "data": {
            "text/plain": [
              "array([[6., 6., 6.],\n",
              "       [6., 6., 6.],\n",
              "       [6., 6., 6.]])"
            ]
          },
          "metadata": {},
          "execution_count": 5
        }
      ]
    },
    {
      "cell_type": "markdown",
      "source": [
        "**37. Consider two arrays arr1 of shape (1, 3) and arr2 of shape (3, 4). Multiply each row of arr2 by the\n",
        "corresponding element in arr1 using NumPy broadcasting.**"
      ],
      "metadata": {
        "id": "P7W1vUUf8IbB"
      }
    },
    {
      "cell_type": "code",
      "source": [
        "arr1 = np.ones((1,3))\n",
        "arr2 = np.full((3,4),2)\n",
        "arr1 = arr1.reshape(3,1)\n",
        "print(arr1)\n",
        "print(arr2)\n",
        "arr2 * arr1"
      ],
      "metadata": {
        "id": "9L_rLrhJ8MoP",
        "colab": {
          "base_uri": "https://localhost:8080/"
        },
        "outputId": "05c39cbe-808f-41ed-dd06-f025be9ce2eb"
      },
      "execution_count": null,
      "outputs": [
        {
          "output_type": "stream",
          "name": "stdout",
          "text": [
            "[[1.]\n",
            " [1.]\n",
            " [1.]]\n",
            "[[2 2 2 2]\n",
            " [2 2 2 2]\n",
            " [2 2 2 2]]\n"
          ]
        },
        {
          "output_type": "execute_result",
          "data": {
            "text/plain": [
              "array([[2., 2., 2., 2.],\n",
              "       [2., 2., 2., 2.],\n",
              "       [2., 2., 2., 2.]])"
            ]
          },
          "metadata": {},
          "execution_count": 12
        }
      ]
    },
    {
      "cell_type": "markdown",
      "source": [
        "**38. Given a 1D array arr1 of shape (1, 4) and a 2D array arr2 of shape (4, 3), add arr1 to each row of arr2 using\n",
        "NumPy broadcasting.**"
      ],
      "metadata": {
        "id": "LbN7c6xl8NuR"
      }
    },
    {
      "cell_type": "code",
      "source": [
        "arr1 = np.array([[1,2,3,4]])\n",
        "arr2 = np.array([[1,2,3],[4,5,6],[7,8,9],[10,11,12]])\n",
        "arr1 = arr1.reshape(4,1)\n",
        "print(arr1)\n",
        "print(arr2)\n",
        "arr2 + arr1"
      ],
      "metadata": {
        "id": "1a-SB7CC8RcX",
        "colab": {
          "base_uri": "https://localhost:8080/"
        },
        "outputId": "bb2616db-d4bd-450d-88e4-e60d35deeac0"
      },
      "execution_count": null,
      "outputs": [
        {
          "output_type": "stream",
          "name": "stdout",
          "text": [
            "[[1]\n",
            " [2]\n",
            " [3]\n",
            " [4]]\n",
            "[[ 1  2  3]\n",
            " [ 4  5  6]\n",
            " [ 7  8  9]\n",
            " [10 11 12]]\n"
          ]
        },
        {
          "output_type": "execute_result",
          "data": {
            "text/plain": [
              "array([[ 2,  3,  4],\n",
              "       [ 6,  7,  8],\n",
              "       [10, 11, 12],\n",
              "       [14, 15, 16]])"
            ]
          },
          "metadata": {},
          "execution_count": 14
        }
      ]
    },
    {
      "cell_type": "markdown",
      "source": [
        "**39. Consider two arrays arr1 of shape (3, 1) and arr2 of shape (1, 3). Add these arrays using NumPy\n",
        "broadcasting.**"
      ],
      "metadata": {
        "id": "mEz6ahaR8SNR"
      }
    },
    {
      "cell_type": "code",
      "source": [
        "arr1 = np.array([[1],[2],[3]])\n",
        "arr2 = np.array([[4,5,6]])\n",
        "arr1 = arr1.reshape(3,1)\n",
        "arr1 + arr2"
      ],
      "metadata": {
        "id": "9F2nwzf38VlX",
        "colab": {
          "base_uri": "https://localhost:8080/"
        },
        "outputId": "87fb43b8-8f00-4e31-d90a-313aff87798f"
      },
      "execution_count": null,
      "outputs": [
        {
          "output_type": "execute_result",
          "data": {
            "text/plain": [
              "array([[5, 6, 7],\n",
              "       [6, 7, 8],\n",
              "       [7, 8, 9]])"
            ]
          },
          "metadata": {},
          "execution_count": 17
        }
      ]
    },
    {
      "cell_type": "markdown",
      "source": [
        "**40. Given arrays arr1 of shape (2, 3) and arr2 of shape (2, 2), perform multiplication using NumPy\n",
        "broadcasting. Handle the shape incompatibility.**"
      ],
      "metadata": {
        "id": "ey5Fe_9s8WI0"
      }
    },
    {
      "cell_type": "code",
      "source": [
        "arr1 = np.array([[1, 2, 3],[4, 5, 6]])\n",
        "arr2 = np.array([[7, 8],[9, 10]])\n",
        "arr2_reshaped = arr2.reshape(2, 2, 1)\n",
        "arr1 * arr2_reshaped"
      ],
      "metadata": {
        "id": "D6HZyAiK8ZXG",
        "colab": {
          "base_uri": "https://localhost:8080/"
        },
        "outputId": "06f701e5-5b20-4556-dae1-e90d293e4be7"
      },
      "execution_count": null,
      "outputs": [
        {
          "output_type": "execute_result",
          "data": {
            "text/plain": [
              "array([[[ 7, 14, 21],\n",
              "        [32, 40, 48]],\n",
              "\n",
              "       [[ 9, 18, 27],\n",
              "        [40, 50, 60]]])"
            ]
          },
          "metadata": {},
          "execution_count": 20
        }
      ]
    },
    {
      "cell_type": "markdown",
      "source": [
        "**41. Calculate column-wise mean for the given array:** <br>\n",
        " *arr = np.array([[1, 2, 3], [4, 5, 6]])*"
      ],
      "metadata": {
        "id": "xtfqHUX-8aOh"
      }
    },
    {
      "cell_type": "code",
      "source": [
        "arr = np.array([[1, 2, 3], [4, 5, 6]])\n",
        "arr.mean(axis=0)"
      ],
      "metadata": {
        "id": "PicI14su8heM",
        "colab": {
          "base_uri": "https://localhost:8080/"
        },
        "outputId": "99910ca8-a84e-459e-b585-6c2460dfb612"
      },
      "execution_count": null,
      "outputs": [
        {
          "output_type": "execute_result",
          "data": {
            "text/plain": [
              "array([2.5, 3.5, 4.5])"
            ]
          },
          "metadata": {},
          "execution_count": 22
        }
      ]
    },
    {
      "cell_type": "markdown",
      "source": [
        "**42. Find maximum value in each row of the given array:**\n",
        " *arr = np.array([[1, 2, 3], [4, 5, 6]])*"
      ],
      "metadata": {
        "id": "NlaePEvO8iV4"
      }
    },
    {
      "cell_type": "code",
      "source": [
        "arr = np.array([[1, 2, 3], [4, 5, 6]])\n",
        "arr.max(axis=1)"
      ],
      "metadata": {
        "id": "-uEEQqHj8nch",
        "colab": {
          "base_uri": "https://localhost:8080/"
        },
        "outputId": "bfb7f9e1-3283-4b22-9276-c9c2f2cd81c0"
      },
      "execution_count": null,
      "outputs": [
        {
          "output_type": "execute_result",
          "data": {
            "text/plain": [
              "array([3, 6])"
            ]
          },
          "metadata": {},
          "execution_count": 23
        }
      ]
    },
    {
      "cell_type": "markdown",
      "source": [
        "**43. For the given array, find indices of maximum value in each column.**\n",
        " *arr = np.array([[1, 2, 3], [4, 5, 6]])*"
      ],
      "metadata": {
        "id": "ePFkMMXj8oKw"
      }
    },
    {
      "cell_type": "code",
      "source": [
        "arr = np.array([[1, 2, 3], [4, 5, 6]])\n",
        "arr.argmax(axis=0)"
      ],
      "metadata": {
        "id": "4trXVPL08tKK",
        "colab": {
          "base_uri": "https://localhost:8080/"
        },
        "outputId": "40107e00-6e5a-499f-df32-0cb48d67e3e3"
      },
      "execution_count": null,
      "outputs": [
        {
          "output_type": "execute_result",
          "data": {
            "text/plain": [
              "array([1, 1, 1])"
            ]
          },
          "metadata": {},
          "execution_count": 26
        }
      ]
    },
    {
      "cell_type": "markdown",
      "source": [
        "**44. For the given array, apply custom function to calculate moving sum along rows.**\n",
        " *arr = np.array([[1, 2, 3], [4, 5, 6]])*"
      ],
      "metadata": {
        "id": "QTwlXyIz8t1l"
      }
    },
    {
      "cell_type": "code",
      "source": [
        "arr = np.array([[1, 2, 3], [4, 5, 6]])\n",
        "def moving_sum(arr):\n",
        "  return np.cumsum(arr, axis=1)\n",
        "\n",
        "moving_sum(arr)"
      ],
      "metadata": {
        "id": "iHCSo1B68yd3",
        "colab": {
          "base_uri": "https://localhost:8080/"
        },
        "outputId": "a0c96bc6-4eb2-4fe3-de36-cc767f7e89cd"
      },
      "execution_count": null,
      "outputs": [
        {
          "output_type": "execute_result",
          "data": {
            "text/plain": [
              "array([[ 1,  3,  6],\n",
              "       [ 4,  9, 15]])"
            ]
          },
          "metadata": {},
          "execution_count": 27
        }
      ]
    },
    {
      "cell_type": "markdown",
      "source": [
        "**45. In the given array, check if all elements in each column are even.**\n",
        " *arr = np.array([[2, 4, 6], [3, 5, 7]])*\n"
      ],
      "metadata": {
        "id": "5E5CMkH-8zM9"
      }
    },
    {
      "cell_type": "code",
      "source": [
        "arr = np.array([[2,4,6],[3,5,7]])\n",
        "np.all(arr % 2 == 0, axis=0)"
      ],
      "metadata": {
        "id": "hogLMINl83sh",
        "colab": {
          "base_uri": "https://localhost:8080/"
        },
        "outputId": "d4883c42-a850-4a6f-c122-9234ca91709d"
      },
      "execution_count": null,
      "outputs": [
        {
          "output_type": "execute_result",
          "data": {
            "text/plain": [
              "array([False, False, False])"
            ]
          },
          "metadata": {},
          "execution_count": 29
        }
      ]
    },
    {
      "cell_type": "markdown",
      "source": [
        "**46. Given a NumPy array arr, reshape it into a matrix of dimensions `m` rows and `n` columns. Return the\n",
        "reshaped matrix.**\n",
        " *original_array = np.array([1, 2, 3, 4, 5, 6])*"
      ],
      "metadata": {
        "id": "xEIW2szG84aw"
      }
    },
    {
      "cell_type": "code",
      "source": [
        "original_array = np.array([1, 2, 3, 4, 5, 6])\n",
        "m = 2\n",
        "n = 3\n",
        "original_array.reshape(m, n)"
      ],
      "metadata": {
        "id": "KI29W1zi8-Nb",
        "colab": {
          "base_uri": "https://localhost:8080/"
        },
        "outputId": "1a20edec-1652-4614-9a99-c75d572c8669"
      },
      "execution_count": null,
      "outputs": [
        {
          "output_type": "execute_result",
          "data": {
            "text/plain": [
              "array([[1, 2, 3],\n",
              "       [4, 5, 6]])"
            ]
          },
          "metadata": {},
          "execution_count": 30
        }
      ]
    },
    {
      "cell_type": "markdown",
      "source": [
        "**47. Create a function that takes a matrix as input and returns the flattened array.**\n",
        " *input_matrix = np.array([[1, 2, 3], [4, 5, 6]])*"
      ],
      "metadata": {
        "id": "kDhHuYhP9B_g"
      }
    },
    {
      "cell_type": "code",
      "source": [
        "def flatteninp(input_matrix):\n",
        "  return input_matrix.flatten()\n",
        "input_matrix = np.array([[1, 2, 3], [4, 5, 6]])\n",
        "flatteninp(input_matrix)"
      ],
      "metadata": {
        "id": "lsiI4LD69GMv",
        "colab": {
          "base_uri": "https://localhost:8080/"
        },
        "outputId": "6bf84b0f-f7a7-4f0c-8b95-52d450b94d45"
      },
      "execution_count": null,
      "outputs": [
        {
          "output_type": "execute_result",
          "data": {
            "text/plain": [
              "array([1, 2, 3, 4, 5, 6])"
            ]
          },
          "metadata": {},
          "execution_count": 32
        }
      ]
    },
    {
      "cell_type": "markdown",
      "source": [
        "**48. Write a function that concatenates two given arrays along a specified axis.**\n",
        " *array1 = np.array([[1, 2], [3, 4]])\n",
        " array2 = np.array([[5, 6], [7, 8]])*"
      ],
      "metadata": {
        "id": "pPmDTnG39HiB"
      }
    },
    {
      "cell_type": "code",
      "source": [
        "array1 = np.array([[1, 2], [3, 4]])\n",
        "array2 = np.array([[5, 6], [7, 8]])\n",
        "np.concatenate((array1, array2), axis=1)"
      ],
      "metadata": {
        "id": "UcqUtsDB9SCr",
        "colab": {
          "base_uri": "https://localhost:8080/"
        },
        "outputId": "ed175aed-a319-4a5d-9cb7-644e0db5feac"
      },
      "execution_count": null,
      "outputs": [
        {
          "output_type": "execute_result",
          "data": {
            "text/plain": [
              "array([[1, 2, 5, 6],\n",
              "       [3, 4, 7, 8]])"
            ]
          },
          "metadata": {},
          "execution_count": 33
        }
      ]
    },
    {
      "cell_type": "markdown",
      "source": [
        "**49. Create a function that splits an array into multiple sub-arrays along a specified axis.**\n",
        " *original_array = np.array([[1, 2, 3], [4, 5, 6], [7, 8, 9]])*"
      ],
      "metadata": {
        "id": "el6DqkUs9Sh_"
      }
    },
    {
      "cell_type": "code",
      "source": [
        "def split_array(arr, axis, n):\n",
        "  return np.split(arr, n, axis)\n",
        "original_array = np.array([[1, 2, 3], [4, 5, 6], [7, 8, 9]])\n",
        "split_array(original_array, 0, 3)"
      ],
      "metadata": {
        "id": "O35hRzoX9XpD",
        "colab": {
          "base_uri": "https://localhost:8080/"
        },
        "outputId": "a21e2566-964f-4b1a-c561-56fb6e6cce38"
      },
      "execution_count": null,
      "outputs": [
        {
          "output_type": "execute_result",
          "data": {
            "text/plain": [
              "[array([[1, 2, 3]]), array([[4, 5, 6]]), array([[7, 8, 9]])]"
            ]
          },
          "metadata": {},
          "execution_count": 34
        }
      ]
    },
    {
      "cell_type": "markdown",
      "source": [
        "**50. Write a function that inserts and then deletes elements from a given array at specified indices.**\n",
        " *original_array = np.array([1, 2, 3, 4, 5])\n",
        " indices_to_insert = [2, 4]\n",
        " values_to_insert = [10, 11]\n",
        " indices_to_delete = [1, 3]*"
      ],
      "metadata": {
        "id": "e8uY5JDp9YN4"
      }
    },
    {
      "cell_type": "code",
      "source": [
        "def dele(arr, ind, vinsert, idelete):\n",
        "  arr = np.insert(arr, ind, vinsert)\n",
        "  print(\"after insertion: \", arr)\n",
        "  arr = np.delete(arr, idelete)\n",
        "  return arr\n",
        "original_array = np.array([1, 2, 3, 4, 5])\n",
        "indices_to_insert = [2, 4]\n",
        "values_to_insert = [10, 11]\n",
        "indices_to_delete = [1, 3]\n",
        "dele(original_array, indices_to_insert, values_to_insert, indices_to_delete)"
      ],
      "metadata": {
        "id": "fCVQkRHn9f94",
        "colab": {
          "base_uri": "https://localhost:8080/"
        },
        "outputId": "cc311ec1-f0ba-4cc0-d493-0ab7b55bb56c"
      },
      "execution_count": null,
      "outputs": [
        {
          "output_type": "stream",
          "name": "stdout",
          "text": [
            "after insertion:  [ 1  2 10  3  4 11  5]\n"
          ]
        },
        {
          "output_type": "execute_result",
          "data": {
            "text/plain": [
              "array([ 1, 10,  4, 11,  5])"
            ]
          },
          "metadata": {},
          "execution_count": 37
        }
      ]
    },
    {
      "cell_type": "markdown",
      "source": [
        "**51. Create a NumPy array `arr1` with random integers and another array `arr2` with integers from 1 to 10.** <br>\n",
        "**Perform element-wise addition between `arr1` and `arr2`.**"
      ],
      "metadata": {
        "id": "lyuKr_WKflrP"
      }
    },
    {
      "cell_type": "code",
      "source": [
        "arr1 = np.random.randint(10, size = 10)\n",
        "arr2 = np.arange(1, 11)\n",
        "arr1 + arr2"
      ],
      "metadata": {
        "colab": {
          "base_uri": "https://localhost:8080/"
        },
        "id": "Xtc6Ef9WedH7",
        "outputId": "196d554b-457d-4dd1-8434-b9cc9f88b71f"
      },
      "execution_count": null,
      "outputs": [
        {
          "output_type": "execute_result",
          "data": {
            "text/plain": [
              "array([ 6,  2,  8,  9,  5, 12,  8, 10, 15, 17])"
            ]
          },
          "metadata": {},
          "execution_count": 41
        }
      ]
    },
    {
      "cell_type": "markdown",
      "source": [
        "**52. Generate a NumPy array `arr1` with sequential integers from 10 to 1 and another array `arr2` with integers from 1 to 10. Subtract `arr2` from `arr1` element-wise.**"
      ],
      "metadata": {
        "id": "jJZuUlJPfnTF"
      }
    },
    {
      "cell_type": "code",
      "source": [
        "arr1 = np.arange(10, 0, -1)\n",
        "arr2 = np.arange(1, 11)\n",
        "arr1 - arr2"
      ],
      "metadata": {
        "colab": {
          "base_uri": "https://localhost:8080/"
        },
        "id": "llkcuuVSmTtv",
        "outputId": "1ac3819e-ccd7-469b-c8e0-d08bf7064e74"
      },
      "execution_count": null,
      "outputs": [
        {
          "output_type": "execute_result",
          "data": {
            "text/plain": [
              "array([ 9,  7,  5,  3,  1, -1, -3, -5, -7, -9])"
            ]
          },
          "metadata": {},
          "execution_count": 43
        }
      ]
    },
    {
      "cell_type": "markdown",
      "source": [
        "**53. Create a NumPy array `arr1` with random integers and another array `arr2` with integers from 1 to 5. Perform element-wise multiplication between `arr1` and `arr2`.**"
      ],
      "metadata": {
        "id": "i_-A2wFcfrOw"
      }
    },
    {
      "cell_type": "code",
      "source": [
        "arr1 = np.random.randint(10,size = 5, dtype=int)\n",
        "arr2 = np.arange(1, 6)\n",
        "arr1 * arr2"
      ],
      "metadata": {
        "colab": {
          "base_uri": "https://localhost:8080/"
        },
        "id": "xuEkIdC0mr3g",
        "outputId": "63b1ba7a-a2b7-4981-cf78-e44e3df30202"
      },
      "execution_count": null,
      "outputs": [
        {
          "output_type": "execute_result",
          "data": {
            "text/plain": [
              "array([ 7, 10,  6, 36, 25])"
            ]
          },
          "metadata": {},
          "execution_count": 47
        }
      ]
    },
    {
      "cell_type": "markdown",
      "source": [
        "**54. Generate a NumPy array `arr1` with even integers from 2 to 10 and another array `arr2` with integers from 1 to 5. Perform element-wise division of `arr1` by `arr2`.**\n"
      ],
      "metadata": {
        "id": "OJM7Zx_zfu6y"
      }
    },
    {
      "cell_type": "code",
      "source": [
        "arr1 = np.arange(2, 11, 2)\n",
        "arr2 = np.arange(1, 6)\n",
        "arr1 / arr2"
      ],
      "metadata": {
        "colab": {
          "base_uri": "https://localhost:8080/"
        },
        "id": "3DN5kk0232b4",
        "outputId": "467ea9b2-ecea-4784-d923-c6214d74f0a6"
      },
      "execution_count": null,
      "outputs": [
        {
          "output_type": "execute_result",
          "data": {
            "text/plain": [
              "array([2., 2., 2., 2., 2.])"
            ]
          },
          "metadata": {},
          "execution_count": 72
        }
      ]
    },
    {
      "cell_type": "markdown",
      "source": [
        "**55. Create a NumPy array `arr1` with integers from 1 to 5 and another array `arr2` with the same numbers reversed. Calculate the exponentiation of `arr1` raised to the power of `arr2` element-wise.**\n"
      ],
      "metadata": {
        "id": "qb24N2Y4fxyw"
      }
    },
    {
      "cell_type": "code",
      "source": [
        "arr1 = np.arange(1,6)\n",
        "arr2 = arr1[::-1]\n",
        "np.exp([arr1**arr2])"
      ],
      "metadata": {
        "id": "X9YfR-E54Ayi",
        "colab": {
          "base_uri": "https://localhost:8080/"
        },
        "outputId": "b71ea44d-4f99-4ffa-cbb4-1edd2c274c7e"
      },
      "execution_count": 73,
      "outputs": [
        {
          "output_type": "execute_result",
          "data": {
            "text/plain": [
              "array([[2.71828183e+00, 8.88611052e+06, 5.32048241e+11, 8.88611052e+06,\n",
              "        1.48413159e+02]])"
            ]
          },
          "metadata": {},
          "execution_count": 73
        }
      ]
    },
    {
      "cell_type": "markdown",
      "source": [
        "**56. Write a function that counts the occurrences of a specific substring within a NumPy array of strings.**\n",
        "\n",
        "arr = np.array(['hello', 'world', 'hello', 'numpy', 'hello'])"
      ],
      "metadata": {
        "id": "uqqz3Oazf0Fc"
      }
    },
    {
      "cell_type": "code",
      "source": [
        "def count_substrings(arr, substring):\n",
        "  count = 0\n",
        "  for i in arr:\n",
        "    if substring in i:\n",
        "      count += 1\n",
        "  return count\n",
        "s = \"hello\"\n",
        "arr = np.array(['hello', 'world', 'hello', 'numpy', 'hello'])\n",
        "count_substrings(arr, s)"
      ],
      "metadata": {
        "id": "ocANerFY4ON6",
        "colab": {
          "base_uri": "https://localhost:8080/"
        },
        "outputId": "7ba26301-502b-4367-9ae1-8f21405e1bf7"
      },
      "execution_count": 74,
      "outputs": [
        {
          "output_type": "execute_result",
          "data": {
            "text/plain": [
              "3"
            ]
          },
          "metadata": {},
          "execution_count": 74
        }
      ]
    },
    {
      "cell_type": "markdown",
      "source": [
        "**57. Write a function that extracts uppercase characters from a NumPy array of strings.**\n",
        "\n",
        "arr = np.array(['Hello', 'World', 'OpenAI', 'GPT']) <br>\n",
        "arr = np.array(['Hello', 'World', 'OpenAI', 'GPT'])"
      ],
      "metadata": {
        "id": "oOVsKz0rf6jy"
      }
    },
    {
      "cell_type": "code",
      "source": [
        "def uppercase(arr):\n",
        "  uchars = []\n",
        "  for i in arr:\n",
        "    for j in i:\n",
        "      if j.isupper():\n",
        "        uchars.append(j)\n",
        "  return uchars\n",
        "arr = np.array(['Hello', 'World', 'OpenAI', 'GPT'])\n",
        "uppercase(arr)"
      ],
      "metadata": {
        "colab": {
          "base_uri": "https://localhost:8080/"
        },
        "id": "lpAMRLBCAdfM",
        "outputId": "4f64284e-2fc4-486d-c22c-bd383ced276c"
      },
      "execution_count": 75,
      "outputs": [
        {
          "output_type": "execute_result",
          "data": {
            "text/plain": [
              "['H', 'W', 'O', 'A', 'I', 'G', 'P', 'T']"
            ]
          },
          "metadata": {},
          "execution_count": 75
        }
      ]
    },
    {
      "cell_type": "markdown",
      "source": [
        "**58. Write a function that replaces occurrences of a substring in a NumPy array of strings with a new string.** <br>\n",
        "arr = np.array(['apple', 'banana', 'grape', 'pineapple'])"
      ],
      "metadata": {
        "id": "fvpbiQG9f-BR"
      }
    },
    {
      "cell_type": "code",
      "source": [
        "def replace_substring(arr, old_substring, new_substring):\n",
        "  for i in range(len(arr)):\n",
        "    arr[i] = arr[i].replace(old_substring, new_substring)\n",
        "  return arr\n",
        "old_substring = \"apple\"\n",
        "new_substring = \"orange\"\n",
        "arr = np.array(['apple', 'banana', 'grape', 'pineapple'])\n",
        "replace_substring(arr, old_substring, new_substring)"
      ],
      "metadata": {
        "colab": {
          "base_uri": "https://localhost:8080/"
        },
        "id": "Fl1o3veUBTZl",
        "outputId": "4fd88086-4100-4f7d-ca15-0af8ab3bad41"
      },
      "execution_count": 76,
      "outputs": [
        {
          "output_type": "execute_result",
          "data": {
            "text/plain": [
              "array(['orange', 'banana', 'grape', 'pineorang'], dtype='<U9')"
            ]
          },
          "metadata": {},
          "execution_count": 76
        }
      ]
    },
    {
      "cell_type": "markdown",
      "source": [
        "**59. Write a function that concatenates strings in a NumPy array element-wise.** <br>\n",
        "arr1 = np.array(['Hello', 'World'])<br>\n",
        "arr2 = np.array(['Open', 'AI'])<br>\n"
      ],
      "metadata": {
        "id": "ZDnoUD7hgBgf"
      }
    },
    {
      "cell_type": "code",
      "source": [
        "arr1 = np.array(['Hello', 'World'])\n",
        "arr2 = np.array(['Open', 'AI'])\n",
        "np.char.add(arr1, arr2)"
      ],
      "metadata": {
        "colab": {
          "base_uri": "https://localhost:8080/"
        },
        "id": "ROJcg4hEDBUv",
        "outputId": "72b79f58-18a2-4d91-bca0-67e18dcd5a3d"
      },
      "execution_count": 77,
      "outputs": [
        {
          "output_type": "execute_result",
          "data": {
            "text/plain": [
              "array(['HelloOpen', 'WorldAI'], dtype='<U9')"
            ]
          },
          "metadata": {},
          "execution_count": 77
        }
      ]
    },
    {
      "cell_type": "markdown",
      "source": [
        "**60. Write a function that finds the length of the longest string in a NumPy array.**<br>\n",
        "arr = np.array(['apple', 'banana', 'grape', 'pineapple'])"
      ],
      "metadata": {
        "id": "m2bjpIp1gEYn"
      }
    },
    {
      "cell_type": "code",
      "source": [
        "def clen(arr):\n",
        "  max = 0\n",
        "  for i in arr:\n",
        "    if max < len(i):\n",
        "      max = len(i)\n",
        "  return max\n",
        "arr = np.array(['apple', 'banana', 'grape', 'pineapple'])\n",
        "clen(arr)"
      ],
      "metadata": {
        "colab": {
          "base_uri": "https://localhost:8080/"
        },
        "id": "bnmfKGMZDaG1",
        "outputId": "1c6a2821-2842-4b17-fec2-d5e462ac3e07"
      },
      "execution_count": 78,
      "outputs": [
        {
          "output_type": "execute_result",
          "data": {
            "text/plain": [
              "9"
            ]
          },
          "metadata": {},
          "execution_count": 78
        }
      ]
    },
    {
      "cell_type": "markdown",
      "source": [
        "**61. Create a dataset of 100 random integers between 1 and 1000. Compute the mean, median, variance, and standard deviation of the dataset using NumPy's functions.**"
      ],
      "metadata": {
        "id": "RqLLwvdSgHA_"
      }
    },
    {
      "cell_type": "code",
      "source": [
        "data = np.random.randint(1, 1000, size=100)\n",
        "print(np.mean(data), np.median(data), np.var(data), np.std(data))"
      ],
      "metadata": {
        "colab": {
          "base_uri": "https://localhost:8080/"
        },
        "id": "Fm4laH72FEbl",
        "outputId": "163b793b-c0b8-4d9f-b66f-8174c3e41a9d"
      },
      "execution_count": 80,
      "outputs": [
        {
          "output_type": "stream",
          "name": "stdout",
          "text": [
            "480.9 488.5 80299.87 283.37231692598345\n"
          ]
        }
      ]
    },
    {
      "cell_type": "markdown",
      "source": [
        "**62. Generate an array of 50 random numbers between 1 and 100. Find the 25th and 75th percentiles of the dataset.**"
      ],
      "metadata": {
        "id": "xJQbRKKQgJtA"
      }
    },
    {
      "cell_type": "code",
      "source": [
        "arr = np.random.randint(1, 100, size=50)\n",
        "print(np.percentile(arr, 25), np.percentile(arr, 75))"
      ],
      "metadata": {
        "colab": {
          "base_uri": "https://localhost:8080/"
        },
        "id": "GelPhEhPGTJ6",
        "outputId": "7ba72443-0be0-4975-fe9a-5bc8088a902f"
      },
      "execution_count": 81,
      "outputs": [
        {
          "output_type": "stream",
          "name": "stdout",
          "text": [
            "20.25 69.0\n"
          ]
        }
      ]
    },
    {
      "cell_type": "markdown",
      "source": [
        "**63. Create two arrays representing two sets of variables. Compute the correlation coefficient between these arrays using NumPy's `corrcoef` function.**"
      ],
      "metadata": {
        "id": "kC99OQDEgMXB"
      }
    },
    {
      "cell_type": "code",
      "source": [
        "arr1 = np.array([1, 2, 3, 4, 5])\n",
        "arr2 = np.array([6, 7, 8, 9, 10])\n",
        "corr = np.corrcoef(arr1, arr2)\n",
        "# direction of a relationship between two variables\n",
        "print(corr)"
      ],
      "metadata": {
        "colab": {
          "base_uri": "https://localhost:8080/"
        },
        "id": "kXVX1wTUGZ3L",
        "outputId": "4e5f82a4-c7ee-41b0-9a9c-317557ab6467"
      },
      "execution_count": 84,
      "outputs": [
        {
          "output_type": "stream",
          "name": "stdout",
          "text": [
            "[[1. 1.]\n",
            " [1. 1.]]\n"
          ]
        }
      ]
    },
    {
      "cell_type": "markdown",
      "source": [
        "\n",
        "**64. Create two matrices and perform matrix multiplication using NumPy's `dot` function.**\n"
      ],
      "metadata": {
        "id": "TVAX6DLDgPkJ"
      }
    },
    {
      "cell_type": "code",
      "source": [
        "mat1 = np.array([[1, 2], [3, 4]])\n",
        "mat2 = np.array([[5, 6], [7, 8]])\n",
        "np.dot(mat1, mat2)"
      ],
      "metadata": {
        "colab": {
          "base_uri": "https://localhost:8080/"
        },
        "id": "PODbyoWiHE1z",
        "outputId": "a4f9adbb-d2eb-4ab7-db53-bbfd8a6b8de3"
      },
      "execution_count": 85,
      "outputs": [
        {
          "output_type": "execute_result",
          "data": {
            "text/plain": [
              "array([[19, 22],\n",
              "       [43, 50]])"
            ]
          },
          "metadata": {},
          "execution_count": 85
        }
      ]
    },
    {
      "cell_type": "markdown",
      "source": [
        "**65. Create an array of 50 integers between 10 and 1000. Calculate the 10th, 50th (median), and 90th percentiles along with the first and third quartiles.**"
      ],
      "metadata": {
        "id": "-ub0IGcygTqF"
      }
    },
    {
      "cell_type": "code",
      "source": [
        "arr = np.random.randint(10, 1000, size=50)\n",
        "print(np.percentile(arr, [10, 50, 90]))"
      ],
      "metadata": {
        "colab": {
          "base_uri": "https://localhost:8080/"
        },
        "id": "E-1E-sl4IocK",
        "outputId": "db372555-2cdf-40b3-aaea-ff2e9bb8a47b"
      },
      "execution_count": 86,
      "outputs": [
        {
          "output_type": "stream",
          "name": "stdout",
          "text": [
            "[110.  551.  902.5]\n"
          ]
        }
      ]
    },
    {
      "cell_type": "markdown",
      "source": [
        "\n",
        "**66. Create a NumPy array of integers and find the index of a specific element.**\n"
      ],
      "metadata": {
        "id": "IN0VtQaagWWA"
      }
    },
    {
      "cell_type": "code",
      "source": [
        "  arr = np.array([1, 2, 3, 4, 5])\n",
        "  print(np.where(arr == 3))"
      ],
      "metadata": {
        "colab": {
          "base_uri": "https://localhost:8080/"
        },
        "id": "zFEQY1fMJS4J",
        "outputId": "a86d7bcc-a751-487a-95c0-9a6f2e31d185"
      },
      "execution_count": 87,
      "outputs": [
        {
          "output_type": "stream",
          "name": "stdout",
          "text": [
            "(array([2]),)\n"
          ]
        }
      ]
    },
    {
      "cell_type": "markdown",
      "source": [
        "**67. Generate a random NumPy array and sort it in ascending order.**"
      ],
      "metadata": {
        "id": "2k6x8RVngb1F"
      }
    },
    {
      "cell_type": "code",
      "source": [
        "array = np.random.randint(0, 100, size=10)\n",
        "np.sort(array)"
      ],
      "metadata": {
        "colab": {
          "base_uri": "https://localhost:8080/"
        },
        "id": "IOKY6qlgJX_n",
        "outputId": "0e2f5459-dd42-4709-9321-35324e919f48"
      },
      "execution_count": 91,
      "outputs": [
        {
          "output_type": "execute_result",
          "data": {
            "text/plain": [
              "array([ 8, 15, 33, 50, 50, 57, 67, 71, 86, 90])"
            ]
          },
          "metadata": {},
          "execution_count": 91
        }
      ]
    },
    {
      "cell_type": "markdown",
      "source": [
        "**68. Filter elements >20 in the given NumPy array.**<br>\n",
        "arr = np.array([12, 25, 6, 42, 8, 30])\n"
      ],
      "metadata": {
        "id": "KmsQdLw3geuz"
      }
    },
    {
      "cell_type": "code",
      "source": [
        "arr = np.array([12, 25, 6, 42, 8, 30])\n",
        "arr = arr[arr>20]\n",
        "arr"
      ],
      "metadata": {
        "colab": {
          "base_uri": "https://localhost:8080/"
        },
        "id": "W0Aho_qSKEaa",
        "outputId": "cb02bc3f-f2c5-450e-ee0c-e46aeb89eb75"
      },
      "execution_count": 93,
      "outputs": [
        {
          "output_type": "execute_result",
          "data": {
            "text/plain": [
              "array([25, 42, 30])"
            ]
          },
          "metadata": {},
          "execution_count": 93
        }
      ]
    },
    {
      "cell_type": "markdown",
      "source": [
        "**69. Filter elements which are divisible by 3 from a given NumPy array.**\n",
        "arr = np.array([1, 5, 8, 12, 15])"
      ],
      "metadata": {
        "id": "miGdyfgkghXD"
      }
    },
    {
      "cell_type": "code",
      "source": [
        "arr = np.array([1, 5, 8, 12, 15])\n",
        "arr = arr[arr%3==0]\n",
        "arr"
      ],
      "metadata": {
        "colab": {
          "base_uri": "https://localhost:8080/"
        },
        "id": "cItiu3lIKOOp",
        "outputId": "b9e3fbcd-490e-4098-ee01-969bde030938"
      },
      "execution_count": 94,
      "outputs": [
        {
          "output_type": "execute_result",
          "data": {
            "text/plain": [
              "array([12, 15])"
            ]
          },
          "metadata": {},
          "execution_count": 94
        }
      ]
    },
    {
      "cell_type": "markdown",
      "source": [
        "**70. Filter elements which are ≥ 20 and ≤ 40 from a given NumPy array.**\n",
        "arr = np.array([10, 20, 30, 40, 50])"
      ],
      "metadata": {
        "id": "qO23hKJwgjvP"
      }
    },
    {
      "cell_type": "code",
      "source": [
        "arr = np.array([10, 20, 30, 40, 50])\n",
        "arr = arr[(arr>=20) & (arr<=40)]\n",
        "arr"
      ],
      "metadata": {
        "colab": {
          "base_uri": "https://localhost:8080/"
        },
        "id": "o2iQ_EvKKTfx",
        "outputId": "8423be9d-38b5-4598-9a09-7abb06bed917"
      },
      "execution_count": 95,
      "outputs": [
        {
          "output_type": "execute_result",
          "data": {
            "text/plain": [
              "array([20, 30, 40])"
            ]
          },
          "metadata": {},
          "execution_count": 95
        }
      ]
    },
    {
      "cell_type": "markdown",
      "source": [
        "**71. For the given NumPy array, check its byte order using the `dtype` attribute byteorder.**\n",
        "arr = np.array([1, 2, 3])"
      ],
      "metadata": {
        "id": "jpn8jad2gmhf"
      }
    },
    {
      "cell_type": "code",
      "source": [
        "arr = np.array([1, 2, 3])\n",
        "print(arr.dtype.byteorder)"
      ],
      "metadata": {
        "colab": {
          "base_uri": "https://localhost:8080/"
        },
        "id": "xGe8_UAFKXPi",
        "outputId": "eff23b12-4f70-45e6-d8ff-3df3a869c3cf"
      },
      "execution_count": 96,
      "outputs": [
        {
          "output_type": "stream",
          "name": "stdout",
          "text": [
            "=\n"
          ]
        }
      ]
    },
    {
      "cell_type": "markdown",
      "source": [
        "**72. For the given NumPy array, perform byte swapping in place using `byteswap()`.**\n",
        "arr = np.array([1, 2, 3], dtype=np.int32)"
      ],
      "metadata": {
        "id": "cgt_0WIugo3D"
      }
    },
    {
      "cell_type": "code",
      "source": [
        "arr = np.array([1, 2, 3], dtype=np.int32)\n",
        "arr.byteswap(inplace=True)"
      ],
      "metadata": {
        "colab": {
          "base_uri": "https://localhost:8080/"
        },
        "id": "nTjE6m5CKxeM",
        "outputId": "e78f9200-fb4f-4bed-fb57-ec03dea96c1d"
      },
      "execution_count": 97,
      "outputs": [
        {
          "output_type": "execute_result",
          "data": {
            "text/plain": [
              "array([16777216, 33554432, 50331648], dtype=int32)"
            ]
          },
          "metadata": {},
          "execution_count": 97
        }
      ]
    },
    {
      "cell_type": "markdown",
      "source": [
        "**73. For the given NumPy array, swap its byte order without modifying the original array using `newbyteorder()`.**<br>\n",
        "arr = np.array([1, 2, 3], dtype=np.int32)"
      ],
      "metadata": {
        "id": "qFWIX-_SgrYV"
      }
    },
    {
      "cell_type": "code",
      "source": [
        "arr = np.array([1, 2, 3], dtype=np.int32)\n",
        "arr = arr.newbyteorder()\n",
        "arr"
      ],
      "metadata": {
        "colab": {
          "base_uri": "https://localhost:8080/"
        },
        "id": "tc7RwitRK20b",
        "outputId": "9264f29d-9cb4-46c4-896b-e4ab494f9944"
      },
      "execution_count": 100,
      "outputs": [
        {
          "output_type": "execute_result",
          "data": {
            "text/plain": [
              "array([16777216, 33554432, 50331648], dtype='>i4')"
            ]
          },
          "metadata": {},
          "execution_count": 100
        }
      ]
    },
    {
      "cell_type": "markdown",
      "source": [
        "\n",
        "**74. For the given NumPy array and swap its byte order conditionally based on system endianness using `newbyteorder()`.** <br>\n",
        "arr = np.array([1, 2, 3], dtype=np.int32)"
      ],
      "metadata": {
        "id": "65zaY-RMguD8"
      }
    },
    {
      "cell_type": "code",
      "source": [
        "arr = np.array([1, 2, 3], dtype=np.int32)\n",
        "if arr.dtype.byteorder == 'little':\n",
        "  arr = arr.newbyteorder()\n",
        "arr"
      ],
      "metadata": {
        "colab": {
          "base_uri": "https://localhost:8080/"
        },
        "id": "Zgvx5zhmLKK2",
        "outputId": "98a2149c-d661-4c0b-9c11-805c040aeac7"
      },
      "execution_count": 113,
      "outputs": [
        {
          "output_type": "execute_result",
          "data": {
            "text/plain": [
              "array([1, 2, 3], dtype=int32)"
            ]
          },
          "metadata": {},
          "execution_count": 113
        }
      ]
    },
    {
      "cell_type": "markdown",
      "source": [
        "**75. For the given NumPy array, check if byte swapping is necessary for the current system using `dtype` attribute `byteorder`.** <br>\n",
        "arr = np.array([1, 2, 3], dtype=np.int32)"
      ],
      "metadata": {
        "id": "f9ZLcXKBgw30"
      }
    },
    {
      "cell_type": "code",
      "source": [
        "arr = np.array([1, 2, 3], dtype=np.int32)\n",
        "if arr.dtype.byteorder == 'little':\n",
        "  print(\"byte swapping is necessary\")\n",
        "else:\n",
        "  print(\"byte swapping is not necessary\")"
      ],
      "metadata": {
        "colab": {
          "base_uri": "https://localhost:8080/"
        },
        "id": "QQ_DTiYeQhBZ",
        "outputId": "e08f2004-322b-48d0-9794-6651e9b25223"
      },
      "execution_count": 112,
      "outputs": [
        {
          "output_type": "stream",
          "name": "stdout",
          "text": [
            "byte swapping is not necessary\n"
          ]
        }
      ]
    },
    {
      "cell_type": "markdown",
      "source": [
        "**76. Create a NumPy array `arr1` with values from 1 to 10. Create a copy of `arr1` named `copy_arr` and modify an element in `copy_arr`. Check if modifying `copy_arr` affects `arr1`.**\n"
      ],
      "metadata": {
        "id": "XvO6aI-QgzsS"
      }
    },
    {
      "cell_type": "code",
      "source": [
        "arr1 = np.arange(1, 11)\n",
        "copy_arr = arr1.copy()\n",
        "copy_arr[0] = 100\n",
        "if (arr1[0] == 100):\n",
        "  print(\"yes affects\")\n",
        "else:\n",
        "  print(\"no, does not affect\")"
      ],
      "metadata": {
        "colab": {
          "base_uri": "https://localhost:8080/"
        },
        "id": "apTIuqP4QRvN",
        "outputId": "98dd46b6-c1af-4d0a-88ed-a5e4c01e1349"
      },
      "execution_count": 111,
      "outputs": [
        {
          "output_type": "stream",
          "name": "stdout",
          "text": [
            "no, does not affect\n"
          ]
        }
      ]
    },
    {
      "cell_type": "markdown",
      "source": [
        "**77. Create a 2D NumPy array `matrix` of shape (3, 3) with random integers. Extract a slice `view_slice` from the matrix. Modify an element in `view_slice` and observe if it changes the original `matrix`.**\n"
      ],
      "metadata": {
        "id": "hAiLpsdyg3F5"
      }
    },
    {
      "cell_type": "code",
      "source": [
        "matrix = np.random.randint(1, 10, size=(3, 3))\n",
        "view_slice = matrix[:2, :2]\n",
        "view_slice[0, 0] = 100\n",
        "print(\"Original Matrix:\")\n",
        "print(matrix)\n",
        "print(\"\\nSlice View:\")\n",
        "print(view_slice)"
      ],
      "metadata": {
        "colab": {
          "base_uri": "https://localhost:8080/"
        },
        "id": "NwvaVb4MP7gB",
        "outputId": "b5b81a5d-982c-4e03-b993-036af9c6442f"
      },
      "execution_count": 109,
      "outputs": [
        {
          "output_type": "stream",
          "name": "stdout",
          "text": [
            "Original Matrix:\n",
            "[[100   9   7]\n",
            " [  5   8   1]\n",
            " [  9   8   5]]\n",
            "\n",
            "Slice View:\n",
            "[[100   9]\n",
            " [  5   8]]\n"
          ]
        }
      ]
    },
    {
      "cell_type": "markdown",
      "source": [
        "**78. Create a NumPy array `array_a` of shape (4, 3) with sequential integers from 1 to 12. Extract a slice `view_b` from `array_a` and broadcast the addition of 5 to view_b. Check if it alters the original `array_a`.**"
      ],
      "metadata": {
        "id": "vfL4Cm2cg6V_"
      }
    },
    {
      "cell_type": "code",
      "source": [
        "array_a = np.arange(1, 13).reshape(4, 3)\n",
        "view_b = array_a[:2, :2]\n",
        "view_b += 5\n",
        "view_b"
      ],
      "metadata": {
        "colab": {
          "base_uri": "https://localhost:8080/"
        },
        "id": "lGGI_MczPrNN",
        "outputId": "1d199e58-a039-4172-a8d6-f3935a912a50"
      },
      "execution_count": 108,
      "outputs": [
        {
          "output_type": "execute_result",
          "data": {
            "text/plain": [
              "array([[ 6,  7],\n",
              "       [ 9, 10]])"
            ]
          },
          "metadata": {},
          "execution_count": 108
        }
      ]
    },
    {
      "cell_type": "markdown",
      "source": [
        "**79. Create a NumPy array `orig_array` of shape (2, 4) with values from 1 to 8. Create a reshaped view `reshaped_view` of shape (4, 2) from orig_array. Modify an element in `reshaped_view` and check if it reflects changes in the original `orig_array`**."
      ],
      "metadata": {
        "id": "BVB9y6-0g9d4"
      }
    },
    {
      "cell_type": "code",
      "source": [
        "orig_array = np.array(np.random.randint(1, 9, size=(2, 4)))\n",
        "reshaped_view = orig_array.reshape(4, 2)\n",
        "reshaped_view[0, 0] = 100\n",
        "if (orig_array[0, 0] == 100):\n",
        "  print(\"yes reflects change\")\n",
        "else:\n",
        "  print(\"no\")"
      ],
      "metadata": {
        "colab": {
          "base_uri": "https://localhost:8080/"
        },
        "id": "Q1w3x_weO8XT",
        "outputId": "61b1588c-e902-4dea-d387-469a9ebc54d0"
      },
      "execution_count": 106,
      "outputs": [
        {
          "output_type": "stream",
          "name": "stdout",
          "text": [
            "yes reflects change\n"
          ]
        }
      ]
    },
    {
      "cell_type": "markdown",
      "source": [
        "\n",
        "**80. Create a NumPy array `data` of shape (3, 4) with random integers. Extract a copy `data_copy` of elements greater than 5. Modify an element in `data_copy` and verify if it affects the original `data`.**\n"
      ],
      "metadata": {
        "id": "qBYolq5hhAmm"
      }
    },
    {
      "cell_type": "code",
      "source": [
        "data = np.random.randint(0, 10, size=(3, 4))\n",
        "print(\"Original Array:\")\n",
        "print(data)\n",
        "data_copy = np.copy(data[data > 5])\n",
        "\n",
        "print(\"\\nCopy of elements greater than 5:\")\n",
        "print(data_copy)\n",
        "\n",
        "data_copy[0] = 100\n",
        "print(\"\\nModified copy:\")\n",
        "print(data_copy)\n",
        "\n",
        "print(\"\\nOriginal Array after modification in the copy:\")\n",
        "print(data)\n"
      ],
      "metadata": {
        "colab": {
          "base_uri": "https://localhost:8080/"
        },
        "id": "ZXTpazGTyqpo",
        "outputId": "e4f82d36-5c23-4d8a-d98d-ec0a00475422"
      },
      "execution_count": null,
      "outputs": [
        {
          "output_type": "stream",
          "name": "stdout",
          "text": [
            "Original Array:\n",
            "[[9 8 2 8]\n",
            " [9 8 5 2]\n",
            " [4 3 8 9]]\n",
            "\n",
            "Copy of elements greater than 5:\n",
            "[9 8 8 9 8 8 9]\n",
            "\n",
            "Modified copy:\n",
            "[100   8   8   9   8   8   9]\n",
            "\n",
            "Original Array after modification in the copy:\n",
            "[[9 8 2 8]\n",
            " [9 8 5 2]\n",
            " [4 3 8 9]]\n"
          ]
        }
      ]
    },
    {
      "cell_type": "markdown",
      "source": [
        "**81. Create two matrices A and B of identical shape containing integers and perform addition and subtraction operations between them.**"
      ],
      "metadata": {
        "id": "AgI51HhQhD1H"
      }
    },
    {
      "cell_type": "code",
      "source": [
        "A=np.array(np.random.randint(100, size=(5,5),dtype=int))\n",
        "B=np.array(np.random.randint(100, size=(5,5), dtype=int))\n",
        "print(A-B, \"\\n\")\n",
        "print(A+B)"
      ],
      "metadata": {
        "colab": {
          "base_uri": "https://localhost:8080/"
        },
        "id": "3Yy9LNdwyHJr",
        "outputId": "1445ee22-4614-40b1-b756-75741e088db0"
      },
      "execution_count": null,
      "outputs": [
        {
          "output_type": "stream",
          "name": "stdout",
          "text": [
            "[[ 27  32  24  58  17]\n",
            " [ -2 -12  22 -51   5]\n",
            " [ 13 -27  79 -24  11]\n",
            " [-30 -87  24 -12 -33]\n",
            " [-35  20  24  39 -71]] \n",
            "\n",
            "[[ 37  82 170 140 131]\n",
            " [ 80 112  92  93  23]\n",
            " [ 23  95  99 128 105]\n",
            " [ 82  95  32 150 105]\n",
            " [145  30 160 157  95]]\n"
          ]
        }
      ]
    },
    {
      "cell_type": "markdown",
      "source": [
        "**82. Generate two matrices `C` (3x2) and `D` (2x4) and perform matrix multiplication.**\n"
      ],
      "metadata": {
        "id": "PXTfhHL9hGEW"
      }
    },
    {
      "cell_type": "code",
      "source": [
        "C = np.matrix([[1,2],[2,3],[3,4]])\n",
        "D = np.matrix([[1,2,3,4],[5,6,7,8]])\n",
        "C@D"
      ],
      "metadata": {
        "colab": {
          "base_uri": "https://localhost:8080/"
        },
        "id": "mbW-fm0Hvbvf",
        "outputId": "3a0a6a74-ba74-4025-d0d6-cf61e8724ae1"
      },
      "execution_count": null,
      "outputs": [
        {
          "output_type": "execute_result",
          "data": {
            "text/plain": [
              "matrix([[11, 14, 17, 20],\n",
              "        [17, 22, 27, 32],\n",
              "        [23, 30, 37, 44]])"
            ]
          },
          "metadata": {},
          "execution_count": 51
        }
      ]
    },
    {
      "cell_type": "markdown",
      "source": [
        "**83. Create a matrix `E` and find its transpose.**"
      ],
      "metadata": {
        "id": "PlD_W-hshKoR"
      }
    },
    {
      "cell_type": "code",
      "source": [
        "E = np.matrix([[1,2,3],[4,5,6],[7,8,9]])\n",
        "E.T"
      ],
      "metadata": {
        "colab": {
          "base_uri": "https://localhost:8080/"
        },
        "id": "JVcnfCi7vUch",
        "outputId": "ebf29b57-c219-4b29-f961-0a9d522a7cf9"
      },
      "execution_count": null,
      "outputs": [
        {
          "output_type": "execute_result",
          "data": {
            "text/plain": [
              "matrix([[1, 4, 7],\n",
              "        [2, 5, 8],\n",
              "        [3, 6, 9]])"
            ]
          },
          "metadata": {},
          "execution_count": 50
        }
      ]
    },
    {
      "cell_type": "markdown",
      "source": [
        "**84. Generate a square matrix `F` and compute its determinant.**"
      ],
      "metadata": {
        "id": "kEURAKpxhLr_"
      }
    },
    {
      "cell_type": "code",
      "source": [
        "F = np.array(np.random.randint(100, size=(5,5)))\n",
        "np.linalg.det(F)"
      ],
      "metadata": {
        "colab": {
          "base_uri": "https://localhost:8080/"
        },
        "id": "p9u0VANuvQug",
        "outputId": "58580c17-68f5-40c9-a469-035a3dff013e"
      },
      "execution_count": null,
      "outputs": [
        {
          "output_type": "execute_result",
          "data": {
            "text/plain": [
              "2120628656.000001"
            ]
          },
          "metadata": {},
          "execution_count": 61
        }
      ]
    },
    {
      "cell_type": "markdown",
      "source": [
        "\n",
        "**85. Create a square matrix `G` and find its inverse.**"
      ],
      "metadata": {
        "id": "MfT5tr1WhMWd"
      }
    },
    {
      "cell_type": "code",
      "source": [
        "G = np.array([[1,2,3],[4,5,6],[7,8,10]])\n",
        "if (np.linalg.det(G) != 0):\n",
        "  print(np.linalg.inv(G))\n",
        "else:\n",
        "  print(\"Matrix is not invertible\")"
      ],
      "metadata": {
        "id": "nKpMamULfmsG",
        "colab": {
          "base_uri": "https://localhost:8080/"
        },
        "outputId": "36265d07-aafe-4ed8-9b09-c9f22509e224"
      },
      "execution_count": null,
      "outputs": [
        {
          "output_type": "stream",
          "name": "stdout",
          "text": [
            "[[-0.66666667 -1.33333333  1.        ]\n",
            " [-0.66666667  3.66666667 -2.        ]\n",
            " [ 1.         -2.          1.        ]]\n"
          ]
        }
      ]
    }
  ]
}